{
 "cells": [
  {
   "cell_type": "markdown",
   "metadata": {},
   "source": [
    "# Plot BBox Information"
   ]
  },
  {
   "cell_type": "markdown",
   "metadata": {},
   "source": [
    "## Plot 4a\n",
    "\n",
    "Be careful about the roation angle in programe \n",
    "It should be 90.0-Angle"
   ]
  },
  {
   "cell_type": "code",
   "execution_count": 2,
   "metadata": {},
   "outputs": [
    {
     "name": "stdout",
     "output_type": "stream",
     "text": [
      "/Users/mingrenshen/Projects/multitype-defect-detection/Notebook\n"
     ]
    }
   ],
   "source": [
    "# Results Path\n",
    "import os\n",
    "# Import packages\n",
    "import re\n",
    "\n",
    "import cv2\n",
    "import numpy as np\n",
    "import pandas as pd\n",
    "from matplotlib import pyplot as plt\n",
    "\n",
    "print(os.getcwd())\n",
    "datPath = \"./HumanValSetCheck/\""
   ]
  },
  {
   "cell_type": "code",
   "execution_count": 3,
   "metadata": {},
   "outputs": [],
   "source": [
    "dict_ID2ImgName = {'11': 'grid1_roi2_500kx_0p5nm_haadf1_0047', '10': 'grid1_roi1_500kx_0p5nm_haadf1_0025', '1': '0501_300kx_1nm_clhaadf3_0014', '0': '0501_300kx_1nm_clhaadf3_0010', '3': '200kV_500kx_p2nm_8cmCL_grain1_0056 - Copy', '2': '1ROI_100kx_4100CL_foil1', '5': '5401_300kx_1nm_clhaadf3_0020', '4': '200kV_500kx_p2nm_8cmCL_grain2_0036', '7': 'BF X500K, 06 (2)', '6': '8ROI_100kx_4100CL_foil1', '9': 'g2_midonzone_GBtowardsfront_0010', '8': 'g1_backonzone_GBtowardsfrom_0007'}"
   ]
  },
  {
   "cell_type": "code",
   "execution_count": 21,
   "metadata": {},
   "outputs": [
    {
     "data": {
      "text/plain": [
       "<Figure size 432x288 with 0 Axes>"
      ]
     },
     "metadata": {},
     "output_type": "display_data"
    },
    {
     "data": {
      "text/plain": [
       "<Figure size 432x288 with 0 Axes>"
      ]
     },
     "metadata": {},
     "output_type": "display_data"
    },
    {
     "data": {
      "text/plain": [
       "<Figure size 432x288 with 0 Axes>"
      ]
     },
     "metadata": {},
     "output_type": "display_data"
    },
    {
     "data": {
      "text/plain": [
       "<Figure size 432x288 with 0 Axes>"
      ]
     },
     "metadata": {},
     "output_type": "display_data"
    },
    {
     "data": {
      "text/plain": [
       "<Figure size 432x288 with 0 Axes>"
      ]
     },
     "metadata": {},
     "output_type": "display_data"
    },
    {
     "data": {
      "text/plain": [
       "<Figure size 432x288 with 0 Axes>"
      ]
     },
     "metadata": {},
     "output_type": "display_data"
    },
    {
     "data": {
      "text/plain": [
       "<Figure size 432x288 with 0 Axes>"
      ]
     },
     "metadata": {},
     "output_type": "display_data"
    },
    {
     "data": {
      "text/plain": [
       "<Figure size 432x288 with 0 Axes>"
      ]
     },
     "metadata": {},
     "output_type": "display_data"
    },
    {
     "data": {
      "text/plain": [
       "<Figure size 432x288 with 0 Axes>"
      ]
     },
     "metadata": {},
     "output_type": "display_data"
    },
    {
     "data": {
      "text/plain": [
       "<Figure size 432x288 with 0 Axes>"
      ]
     },
     "metadata": {},
     "output_type": "display_data"
    },
    {
     "data": {
      "text/plain": [
       "<Figure size 432x288 with 0 Axes>"
      ]
     },
     "metadata": {},
     "output_type": "display_data"
    },
    {
     "data": {
      "text/plain": [
       "<Figure size 432x288 with 0 Axes>"
      ]
     },
     "metadata": {},
     "output_type": "display_data"
    }
   ],
   "source": [
    "for imgID in range(12):\n",
    "    currentResult = pd.read_csv(datPath + 'Human/newCSVwithClass/' + (dict_ID2ImgName[str(imgID)]) +\"_results\" + \".csv\")\n",
    "    fig = plt.figure()\n",
    "    #ax = fig.add_subplot(1, 1, 1)\n",
    "    img = cv2.imread(datPath + \"valIMG/\" + dict_ID2ImgName[str(imgID)] + \".jpg\")\n",
    "    #plt.imshow(img)\n",
    "    # Loop Through all the fitting ellipses\n",
    "    for index,row in currentResult.iterrows():\n",
    "        if currentResult.at[index,'class'] == 0: # 111\n",
    "            cv2.ellipse(img, \n",
    "                       (( currentResult.at[index,'X'],currentResult.at[index,'Y']),\n",
    "                        ( currentResult.at[index,'Minor'],currentResult.at[index,'Major']), \n",
    "                        90.0-currentResult.at[index,'Angle']), \n",
    "                        (0,0,255),2)\n",
    "        elif currentResult.at[index,'class'] == 1: # Black Dot\n",
    "            cv2.ellipse(img, \n",
    "                       (( currentResult.at[index,'X'],currentResult.at[index,'Y']),\n",
    "                        ( currentResult.at[index,'Minor'],currentResult.at[index,'Major']), \n",
    "                        90.0-currentResult.at[index,'Angle']), \n",
    "                        (255,0,0),2)\n",
    "        else:\n",
    "            # 100\n",
    "            assert( currentResult.at[index,'class'] == 2)\n",
    "            cv2.ellipse(img, \n",
    "               (( currentResult.at[index,'X'],currentResult.at[index,'Y']),\n",
    "                ( currentResult.at[index,'Minor'],currentResult.at[index,'Major']), \n",
    "                90.0-currentResult.at[index,'Angle']), \n",
    "                (0,255,255),2)\n",
    "    cv2.imwrite('LabelingEllipse_'+str(imgID)+'.jpg', img)"
   ]
  },
  {
   "cell_type": "markdown",
   "metadata": {},
   "source": [
    "## Plot 4b"
   ]
  },
  {
   "cell_type": "code",
   "execution_count": 26,
   "metadata": {},
   "outputs": [
    {
     "data": {
      "text/plain": [
       "<Figure size 432x288 with 0 Axes>"
      ]
     },
     "metadata": {},
     "output_type": "display_data"
    },
    {
     "data": {
      "text/plain": [
       "<Figure size 432x288 with 0 Axes>"
      ]
     },
     "metadata": {},
     "output_type": "display_data"
    },
    {
     "data": {
      "text/plain": [
       "<Figure size 432x288 with 0 Axes>"
      ]
     },
     "metadata": {},
     "output_type": "display_data"
    },
    {
     "data": {
      "text/plain": [
       "<Figure size 432x288 with 0 Axes>"
      ]
     },
     "metadata": {},
     "output_type": "display_data"
    },
    {
     "data": {
      "text/plain": [
       "<Figure size 432x288 with 0 Axes>"
      ]
     },
     "metadata": {},
     "output_type": "display_data"
    },
    {
     "data": {
      "text/plain": [
       "<Figure size 432x288 with 0 Axes>"
      ]
     },
     "metadata": {},
     "output_type": "display_data"
    },
    {
     "data": {
      "text/plain": [
       "<Figure size 432x288 with 0 Axes>"
      ]
     },
     "metadata": {},
     "output_type": "display_data"
    },
    {
     "data": {
      "text/plain": [
       "<Figure size 432x288 with 0 Axes>"
      ]
     },
     "metadata": {},
     "output_type": "display_data"
    },
    {
     "data": {
      "text/plain": [
       "<Figure size 432x288 with 0 Axes>"
      ]
     },
     "metadata": {},
     "output_type": "display_data"
    },
    {
     "data": {
      "text/plain": [
       "<Figure size 432x288 with 0 Axes>"
      ]
     },
     "metadata": {},
     "output_type": "display_data"
    },
    {
     "data": {
      "text/plain": [
       "<Figure size 432x288 with 0 Axes>"
      ]
     },
     "metadata": {},
     "output_type": "display_data"
    },
    {
     "data": {
      "text/plain": [
       "<Figure size 432x288 with 0 Axes>"
      ]
     },
     "metadata": {},
     "output_type": "display_data"
    }
   ],
   "source": [
    "for imgID in range(12):\n",
    "    currentResult = pd.read_csv(datPath + 'Human/newCSVwithClass/' + (dict_ID2ImgName[str(imgID)]) +\"_results\" + \".csv\")\n",
    "    fig = plt.figure()\n",
    "    #ax = fig.add_subplot(1, 1, 1)\n",
    "    img = cv2.imread(datPath + \"valIMG/\" + dict_ID2ImgName[str(imgID)] + \".jpg\")\n",
    "    # Loop Through all the fitting ellipses\n",
    "    for index,row in currentResult.iterrows():\n",
    "        if currentResult.at[index,'class'] == 0: # 111\n",
    "            cv2.rectangle(img,\n",
    "                         (int(currentResult.at[index,'X']-0.5 * currentResult.at[index,'Width']),\n",
    "                          int(currentResult.at[index,'Y']-0.5 * currentResult.at[index,'Height'])),\n",
    "                         (int(currentResult.at[index,'X']+0.5 * currentResult.at[index,'Width']),\n",
    "                          int(currentResult.at[index,'Y']+0.5 * currentResult.at[index,'Height'])),\n",
    "                         (0,0,255),2)\n",
    "#             cv2.ellipse(img, \n",
    "#                        (( currentResult.at[index,'X'],currentResult.at[index,'Y']),\n",
    "#                         ( currentResult.at[index,'Minor'],currentResult.at[index,'Major']), \n",
    "#                         90.0-currentResult.at[index,'Angle']), \n",
    "#                         (0,0,255),2)\n",
    "        elif currentResult.at[index,'class'] == 1: # Black Dot\n",
    "            cv2.rectangle(img,\n",
    "             (int(currentResult.at[index,'X']-0.5 * currentResult.at[index,'Width']),\n",
    "              int(currentResult.at[index,'Y']-0.5 * currentResult.at[index,'Height'])),\n",
    "             (int(currentResult.at[index,'X']+0.5 * currentResult.at[index,'Width']),\n",
    "              int(currentResult.at[index,'Y']+0.5 * currentResult.at[index,'Height'])),\n",
    "             (255,0,0),2)\n",
    "#             cv2.ellipse(img, \n",
    "#                        (( currentResult.at[index,'X'],currentResult.at[index,'Y']),\n",
    "#                         ( currentResult.at[index,'Minor'],currentResult.at[index,'Major']), \n",
    "#                         90.0-currentResult.at[index,'Angle']), \n",
    "#                         (255,0,0),2)\n",
    "        else:\n",
    "            # 100\n",
    "            assert( currentResult.at[index,'class'] == 2)\n",
    "            cv2.rectangle(img,\n",
    "             (int(currentResult.at[index,'X']-0.5 * currentResult.at[index,'Width']),\n",
    "              int(currentResult.at[index,'Y']-0.5 * currentResult.at[index,'Height'])),\n",
    "             (int(currentResult.at[index,'X']+0.5 * currentResult.at[index,'Width']),\n",
    "              int(currentResult.at[index,'Y']+0.5 * currentResult.at[index,'Height'])),\n",
    "             (0,255,255),2)\n",
    "#             cv2.ellipse(img, \n",
    "#                (( currentResult.at[index,'X'],currentResult.at[index,'Y']),\n",
    "#                 ( currentResult.at[index,'Minor'],currentResult.at[index,'Major']), \n",
    "#                 90.0-currentResult.at[index,'Angle']), \n",
    "#                 (0,255,255),2)\n",
    "    cv2.imwrite('LabelingBBox_'+str(imgID)+'.jpg', img)"
   ]
  },
  {
   "cell_type": "code",
   "execution_count": 4,
   "metadata": {},
   "outputs": [],
   "source": [
    "# retest bbox files\n",
    "for imgID in range(12):\n",
    "    currentResult = pd.read_csv(datPath + 'Human/newCSVwithClass/' + (dict_ID2ImgName[str(imgID)]) +\"_results\" + \".csv\")\n",
    "    # Loop Through all the fitting ellipses\n",
    "    with open((dict_ID2ImgName[str(imgID)])+'.txt','w') as bboxTXT:\n",
    "        for index,row in currentResult.iterrows():\n",
    "            bboxTXT.write(\"%d %.2f %.2f %.2f %.2f\\n\"%(currentResult.at[index,'class'],\n",
    "                                                      currentResult.at[index,'Y']-0.5 * currentResult.at[index,'Height'],\n",
    "                                                      currentResult.at[index,'X']-0.5 * currentResult.at[index,'Width'],\n",
    "                                                      currentResult.at[index,'Y']+0.5 * currentResult.at[index,'Height'],\n",
    "                                                      currentResult.at[index,'X']+0.5 * currentResult.at[index,'Width']))"
   ]
  },
  {
   "cell_type": "code",
   "execution_count": null,
   "metadata": {},
   "outputs": [],
   "source": []
  }
 ],
 "metadata": {
  "kernelspec": {
   "display_name": "Python 2",
   "language": "python",
   "name": "python2"
  },
  "language_info": {
   "codemirror_mode": {
    "name": "ipython",
    "version": 2
   },
   "file_extension": ".py",
   "mimetype": "text/x-python",
   "name": "python",
   "nbconvert_exporter": "python",
   "pygments_lexer": "ipython2",
   "version": "2.7.15"
  }
 },
 "nbformat": 4,
 "nbformat_minor": 2
}
