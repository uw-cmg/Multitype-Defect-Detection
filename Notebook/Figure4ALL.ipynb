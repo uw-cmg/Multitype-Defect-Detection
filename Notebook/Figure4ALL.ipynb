{
 "cells": [
  {
   "cell_type": "markdown",
   "metadata": {},
   "source": [
    "# Figure 4 Generation with all showing images\n",
    "\n",
    "the figure is with size `4 x 3` and each column represents all results of each image and each row represents different testing of the results\n",
    "\n",
    "* ground truth bounding boxes\n",
    "\n",
    "* predicted bounding boxes\n",
    "\n",
    "* ground truth ellipse labelling\n",
    "\n",
    "* predicted ellipse fitting"
   ]
  },
  {
   "cell_type": "code",
   "execution_count": 1,
   "metadata": {},
   "outputs": [],
   "source": [
    "datPath = \"./FittingFunctions/outputFitting0p05/\""
   ]
  },
  {
   "cell_type": "code",
   "execution_count": 4,
   "metadata": {},
   "outputs": [
    {
     "data": {
      "text/plain": [
       "['results_9.csv',\n",
       " '9',\n",
       " '0',\n",
       " '11',\n",
       " '7',\n",
       " 'results_8.csv',\n",
       " '6',\n",
       " '1',\n",
       " '10',\n",
       " '8',\n",
       " 'results_6.csv',\n",
       " 'results_7.csv',\n",
       " 'results_5.csv',\n",
       " 'results_4.csv',\n",
       " 'results_0.csv',\n",
       " 'results_1.csv',\n",
       " 'results_3.csv',\n",
       " 'results_2.csv',\n",
       " '4',\n",
       " '3',\n",
       " 'results_11.csv',\n",
       " 'results_10.csv',\n",
       " '2',\n",
       " '5']"
      ]
     },
     "execution_count": 4,
     "metadata": {},
     "output_type": "execute_result"
    }
   ],
   "source": [
    "import os \n",
    "os.getcwd()\n",
    "os.chdir('..')\n",
    "os.listdir(datPath)"
   ]
  },
  {
   "cell_type": "code",
   "execution_count": 3,
   "metadata": {},
   "outputs": [
    {
     "data": {
      "text/plain": [
       "'/Users/mingrenshen/Projects/multitype-defect-detection/Notebook'"
      ]
     },
     "execution_count": 3,
     "metadata": {},
     "output_type": "execute_result"
    }
   ],
   "source": [
    "os.getcwd()"
   ]
  },
  {
   "cell_type": "code",
   "execution_count": null,
   "metadata": {},
   "outputs": [],
   "source": []
  }
 ],
 "metadata": {
  "kernelspec": {
   "display_name": "Python 2",
   "language": "python",
   "name": "python2"
  },
  "language_info": {
   "codemirror_mode": {
    "name": "ipython",
    "version": 2
   },
   "file_extension": ".py",
   "mimetype": "text/x-python",
   "name": "python",
   "nbconvert_exporter": "python",
   "pygments_lexer": "ipython2",
   "version": "2.7.15"
  }
 },
 "nbformat": 4,
 "nbformat_minor": 2
}
