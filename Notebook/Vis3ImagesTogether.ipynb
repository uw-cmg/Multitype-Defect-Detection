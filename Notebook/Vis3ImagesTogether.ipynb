{
 "cells": [
  {
   "cell_type": "code",
   "execution_count": 1,
   "metadata": {},
   "outputs": [],
   "source": [
    "import os\n",
    "os.getcwd()\n",
    "os.chdir('..')"
   ]
  },
  {
   "cell_type": "code",
   "execution_count": 2,
   "metadata": {},
   "outputs": [
    {
     "name": "stderr",
     "output_type": "stream",
     "text": [
      "/Users/mingrenshen/anaconda3/envs/chainercv/lib/python2.7/site-packages/numpy/distutils/system_info.py:638: UserWarning: \n",
      "    Atlas (http://math-atlas.sourceforge.net/) libraries not found.\n",
      "    Directories to search for the libraries can be specified in the\n",
      "    numpy/distutils/site.cfg file (section [atlas]) or by setting\n",
      "    the ATLAS environment variable.\n",
      "  self.calc_info()\n",
      "/Users/mingrenshen/anaconda3/envs/chainercv/lib/python2.7/site-packages/numpy/distutils/system_info.py:638: UserWarning: \n",
      "    Blas (http://www.netlib.org/blas/) libraries not found.\n",
      "    Directories to search for the libraries can be specified in the\n",
      "    numpy/distutils/site.cfg file (section [blas]) or by setting\n",
      "    the BLAS environment variable.\n",
      "  self.calc_info()\n",
      "/Users/mingrenshen/anaconda3/envs/chainercv/lib/python2.7/site-packages/numpy/distutils/system_info.py:638: UserWarning: \n",
      "    Blas (http://www.netlib.org/blas/) sources not found.\n",
      "    Directories to search for the sources can be specified in the\n",
      "    numpy/distutils/site.cfg file (section [blas_src]) or by setting\n",
      "    the BLAS_SRC environment variable.\n",
      "  self.calc_info()\n"
     ]
    },
    {
     "name": "stdout",
     "output_type": "stream",
     "text": [
      "('total number of training images: ', 15)\n",
      "('total number of test images: ', 15)\n",
      "('type of defects: ', ('111', 'dot', '100'))\n"
     ]
    }
   ],
   "source": [
    "# Import Package\n",
    "from utils import imageUtils\n",
    "from utils import postProcessing\n",
    "from utils import MultiDefectDetectionDataset\n",
    "from utils import evaluation\n",
    "from utils import visualization\n",
    "import numpy as np\n",
    "import os\n",
    "from chainercv.links import FasterRCNNVGG16\n",
    "from chainercv.visualizations import vis_bbox\n",
    "from chainercv.utils import write_image\n",
    "import chainer\n",
    "import math\n",
    "from chainercv import utils\n",
    "%matplotlib inline\n",
    "import matplotlib.pyplot as plt\n",
    "\n",
    "#load Data\n",
    "root = './data/3Types/Data3TypesYminXminYmaxXmax9'\n",
    "dataset_test = MultiDefectDetectionDataset(data_dir=root, split='test')\n",
    "dataset_human = MultiDefectDetectionDataset(data_dir=root, split='Stablehuman')\n",
    "bbox_label_names = ('111', 'dot','100')\n",
    "# DataSet Statistics\n",
    "print('total number of training images: ', len(dataset_test))\n",
    "print('total number of test images: ', len(dataset_test))\n",
    "print('type of defects: ', bbox_label_names)"
   ]
  },
  {
   "cell_type": "markdown",
   "metadata": {},
   "source": [
    "# Generate Basic BBox infomation and Crop Images"
   ]
  },
  {
   "cell_type": "code",
   "execution_count": null,
   "metadata": {},
   "outputs": [],
   "source": [
    "# Faster R-CNN model\n",
    "\n",
    "use_gpu = False\n",
    "# Higher NMS\n",
    "proposal_params = {'min_size': 8,'nms_thresh':0.4}\n",
    "model = FasterRCNNVGG16(n_fg_class=3,\n",
    "                        pretrained_model='modelResults/snapshot_model_244000_Shufulle.npz',\n",
    "                        ratios=[ 0.5, 1, 1.5, 2, 2.5, 4,8,16], anchor_scales=[1, 4, 8, 16], min_size=1024,\n",
    "                        max_size=1024, proposal_creator_params=proposal_params)\n",
    "\n",
    "model.score_thresh = 0.25\n",
    "\n",
    "if use_gpu:\n",
    "    chainer.cuda.get_device_from_id(0).use()\n",
    "    model.to_gpu()"
   ]
  },
  {
   "cell_type": "code",
   "execution_count": null,
   "metadata": {},
   "outputs": [],
   "source": [
    "# Loop Thought Images in testing data set\n",
    "for imgdata in dataset_human:\n",
    "    # Figure Setting\n",
    "    fig = plt.figure(figsize=(36,10))\n",
    "    plt.axis('off')\n",
    "    img, bbox, labels = imgdata\n",
    "    fname = \"img\" + str(i)\n",
    "    # Ground Truth\n",
    "    ax1 = fig.add_subplot(1, 3, 1)\n",
    "    visualization.vis_bbox(img, bbox, labels, label_names=bbox_label_names, ax=ax1)\n",
    "    \n",
    "    # Prediction of image\n",
    "    # Predicted BBoxes\n",
    "    ax2 = fig.add_subplot(1, 3, 2)\n",
    "    bboxes, labels, scores = model.predict([img])\n",
    "    # plot prediction\n",
    "    visualization.vis_bbox(img, bboxes[0], labels[0], scores[0], label_names=bbox_label_names, ax=ax2)\n",
    "    \n",
    "    # Fitting of images\n",
    "    ax3 = fig.add_subplot(1, 3, 3)\n",
    "    img_ellipse_fitting_3kinds_Fig3(img, bboxes[0], labels[0],ax=ax3)\n",
    "    \n",
    "    \n",
    "    fig.savefig(fname,dpi=300,bbox_inches='tight')\n",
    "    i = i + 1\n",
    "\n",
    "print(\"Done\")"
   ]
  }
 ],
 "metadata": {
  "kernelspec": {
   "display_name": "Python 2",
   "language": "python",
   "name": "python2"
  },
  "language_info": {
   "codemirror_mode": {
    "name": "ipython",
    "version": 2
   },
   "file_extension": ".py",
   "mimetype": "text/x-python",
   "name": "python",
   "nbconvert_exporter": "python",
   "pygments_lexer": "ipython2",
   "version": "2.7.15"
  }
 },
 "nbformat": 4,
 "nbformat_minor": 2
}
