{
 "cells": [
  {
   "cell_type": "markdown",
   "metadata": {},
   "source": [
    "# Density Checking"
   ]
  },
  {
   "cell_type": "code",
   "execution_count": 5,
   "metadata": {},
   "outputs": [
    {
     "name": "stdout",
     "output_type": "stream",
     "text": [
      "/Users/mingrenshen/Projects/multitype-defect-detection/Notebook\n"
     ]
    }
   ],
   "source": [
    "# Results Path\n",
    "import os\n",
    "# Import packages\n",
    "import re\n",
    "\n",
    "import cv2\n",
    "import numpy as np\n",
    "import pandas as pd\n",
    "from matplotlib import pyplot as plt\n",
    "\n",
    "print(os.getcwd())"
   ]
  },
  {
   "cell_type": "code",
   "execution_count": 6,
   "metadata": {},
   "outputs": [],
   "source": [
    "# pix2nm is the dict that stores all the coefficient to convert pixel value to real nm data\n",
    "# The format is { 'img_name' :  [pixelNum,nmNum]}\n",
    "# in total the full name of all 12 testing images should be here\n",
    "pix2nm = {'0501_300kx_1nm_clhaadf3_0010_results.csv' : [1024, 490],\n",
    "          '0501_300kx_1nm_clhaadf3_0014_results.csv' : [1024, 490],\n",
    "          '1ROI_100kx_4100CL_foil1_results.csv' : [1024, 890],\n",
    "          '200kV_500kx_p2nm_8cmCL_grain1_0056 - Copy_results.csv' : [1024, 290], #[1024, 291.248],\n",
    "          '200kV_500kx_p2nm_8cmCL_grain2_0036_results.csv' : [1024, 490],#[1024, 485.413],\n",
    "          '5401_300kx_1nm_clhaadf3_0020_results.csv' : [1024, 490],\n",
    "          '8ROI_100kx_4100CL_foil1_results.csv' : [1024, 890],\n",
    "          'BF X500K, 06 (2)_results.csv' : [1024, 145],\n",
    "          'g1_backonzone_GBtowardsfrom_0007_results.csv' : [2048, 290], #[2048, 291.248],\n",
    "          'g2_midonzone_GBtowardsfront_0010_results.csv' : [2048, 290], #[2048, 291.248],\n",
    "          'grid1_roi1_500kx_0p5nm_haadf1_0025_results.csv' : [1024, 290],\n",
    "          'grid1_roi2_500kx_0p5nm_haadf1_0047_results.csv': [1024, 290]}"
   ]
  },
  {
   "cell_type": "markdown",
   "metadata": {},
   "source": [
    "## 1.Type 111 "
   ]
  },
  {
   "cell_type": "code",
   "execution_count": 1,
   "metadata": {},
   "outputs": [],
   "source": [
    "dict_ID2ImgName = {'11': 'grid1_roi2_500kx_0p5nm_haadf1_0047', '10': 'grid1_roi1_500kx_0p5nm_haadf1_0025', '1': '0501_300kx_1nm_clhaadf3_0014', '0': '0501_300kx_1nm_clhaadf3_0010', '3': '200kV_500kx_p2nm_8cmCL_grain1_0056 - Copy', '2': '1ROI_100kx_4100CL_foil1', '5': '5401_300kx_1nm_clhaadf3_0020', '4': '200kV_500kx_p2nm_8cmCL_grain2_0036', '7': 'BF X500K, 06 (2)', '6': '8ROI_100kx_4100CL_foil1', '9': 'g2_midonzone_GBtowardsfront_0010', '8': 'g1_backonzone_GBtowardsfrom_0007'}"
   ]
  },
  {
   "cell_type": "code",
   "execution_count": 12,
   "metadata": {},
   "outputs": [],
   "source": [
    "gt_csv_dir  = \"./HumanValSetCheck/Human/newCSVwithClass/\"\n",
    "pred_csv_dir = \"../FittingFunctions/outputFitting0p05/\""
   ]
  },
  {
   "cell_type": "code",
   "execution_count": 28,
   "metadata": {},
   "outputs": [
    {
     "name": "stdout",
     "output_type": "stream",
     "text": [
      "current Image ID 0\n",
      "current Image ID 1\n",
      "current Image ID 2\n",
      "current Image ID 3\n",
      "current Image ID 4\n",
      "current Image ID 5\n",
      "current Image ID 6\n",
      "current Image ID 7\n",
      "current Image ID 8\n",
      "current Image ID 9\n",
      "current Image ID 10\n",
      "current Image ID 11\n"
     ]
    }
   ],
   "source": [
    "with open(\"class111Check2.csv\",'w') as csv111:\n",
    "    csv111.write(\"%s,%s,%s,%s,%s,%s,%s\\n\"%('numGT','radiusGT','R2GT','denGT','numPred','radiusPred','R2Pred','denPred','areaIMG'))\n",
    "    for imgID in range(12):\n",
    "        print(\"current Image ID %d\"%imgID)\n",
    "        numGT = 0\n",
    "        numPred = 0\n",
    "        denGT = 0\n",
    "        denPred = 0\n",
    "        areaIMG = 0\n",
    "        gtcsvName = (dict_ID2ImgName[str(imgID)]) +\"_results\" + \".csv\"\n",
    "        current_conversionFactor = 1.0 * pix2nm[gtcsvName][1] / pix2nm[gtcsvName][0] # nm / pixel\n",
    "        areaIMG = pix2nm[gtcsvName][1] * pix2nm[gtcsvName][1] # nm^2\n",
    "        R_gt = list()\n",
    "        R2_gt = list()\n",
    "        R_pred = list()\n",
    "        R2_pred = list()\n",
    "        # Process GT part\n",
    "        currentGTcsv = pd.read_csv(gt_csv_dir + gtcsvName)\n",
    "        # Loop Through all the fitting ellipses\n",
    "        for index,row in currentGTcsv.iterrows():\n",
    "            if currentGTcsv.at[index,'class'] == 2: # 111\n",
    "                numGT += 1\n",
    "                R_gt.append(currentGTcsv.loc[index, 'Major'] * current_conversionFactor)\n",
    "                R2_gt.append(currentGTcsv.loc[index, 'Major']**2 * current_conversionFactor**2)\n",
    "        denGT = numGT * 10.0**5/areaIMG\n",
    "        # Process Pred part\n",
    "        currentPredcsv = pd.read_csv(pred_csv_dir+\"results_\"+str(imgID)+\".csv\")\n",
    "        for index,row in currentPredcsv.iterrows():\n",
    "            if currentPredcsv.at[index,'class'] == 2: # 111\n",
    "                R_pred.append( 2* currentPredcsv.loc[index,\"Reff_nm\"])\n",
    "                R2_pred.append(2* currentPredcsv.loc[index,\"Reff_nm\"]**2)\n",
    "                numPred += 1\n",
    "        denPred = 10.0**5 * numPred / areaIMG\n",
    "        csv111.write(\"%d,%.3f,%.3f,%f,%d,%.3f,%.3f,%s,%s\\n\"%(numGT,np.mean(R_gt),np.mean(R2_gt),denGT,numPred, np.mean(R_pred),np.mean(R2_pred),denPred,areaIMG))"
   ]
  },
  {
   "cell_type": "markdown",
   "metadata": {},
   "source": [
    "### Type 100"
   ]
  },
  {
   "cell_type": "code",
   "execution_count": 29,
   "metadata": {},
   "outputs": [
    {
     "name": "stdout",
     "output_type": "stream",
     "text": [
      "current Image ID 0\n",
      "current Image ID 1\n",
      "current Image ID 2\n",
      "current Image ID 3\n",
      "current Image ID 4\n",
      "current Image ID 5\n",
      "current Image ID 6\n",
      "current Image ID 7\n",
      "current Image ID 8\n",
      "current Image ID 9\n",
      "current Image ID 10\n",
      "current Image ID 11\n"
     ]
    }
   ],
   "source": [
    "with open(\"class100Check2.csv\",'w') as csv100:\n",
    "    csv100.write(\"%s,%s,%s,%s,%s,%s,%s\\n\"%('numGT','radiusGT','R2GT','denGT','numPred','radiusPred','R2Pred','denPred','areaIMG'))\n",
    "    for imgID in range(12):\n",
    "        print(\"current Image ID %d\"%imgID)\n",
    "        numGT = 0\n",
    "        numPred = 0\n",
    "        denGT = 0\n",
    "        denPred = 0\n",
    "        areaIMG = 0\n",
    "        gtcsvName = (dict_ID2ImgName[str(imgID)]) +\"_results\" + \".csv\"\n",
    "        current_conversionFactor = 1.0 * pix2nm[gtcsvName][1] / pix2nm[gtcsvName][0] # nm / pixel\n",
    "        areaIMG = pix2nm[gtcsvName][1] * pix2nm[gtcsvName][1] # nm^2\n",
    "        R_gt = list()\n",
    "        R2_gt = list()\n",
    "        R_pred = list()\n",
    "        R2_pred = list()\n",
    "        # Process GT part\n",
    "        currentGTcsv = pd.read_csv(gt_csv_dir + gtcsvName)\n",
    "        # Loop Through all the fitting ellipses\n",
    "        for index,row in currentGTcsv.iterrows():\n",
    "            if currentGTcsv.at[index,'class'] == 2: # 111\n",
    "                numGT += 1\n",
    "                R_gt.append(currentGTcsv.loc[index, 'Major'] * current_conversionFactor)\n",
    "                R2_gt.append(currentGTcsv.loc[index, 'Major']**2 * current_conversionFactor**2)\n",
    "        denGT = numGT * 10.0**5/areaIMG\n",
    "        # Process Pred part\n",
    "        currentPredcsv = pd.read_csv(pred_csv_dir+\"results_\"+str(imgID)+\".csv\")\n",
    "        for index,row in currentPredcsv.iterrows():\n",
    "            if currentPredcsv.at[index,'class'] == 2: # 111\n",
    "                R_pred.append( 2* currentPredcsv.loc[index,\"Reff_nm\"])\n",
    "                R2_pred.append(2* currentPredcsv.loc[index,\"Reff_nm\"]**2)\n",
    "                numPred += 1\n",
    "        denPred = 10.0**5 * numPred / areaIMG\n",
    "        csv100.write(\"%d,%.3f,%.3f,%f,%d,%.3f,%.3f,%s,%s\\n\"%(numGT,np.mean(R_gt),np.mean(R2_gt),denGT,numPred, np.mean(R_pred),np.mean(R2_pred),denPred,areaIMG))"
   ]
  },
  {
   "cell_type": "code",
   "execution_count": 30,
   "metadata": {},
   "outputs": [
    {
     "name": "stdout",
     "output_type": "stream",
     "text": [
      "current Image ID 0\n",
      "current Image ID 1\n",
      "current Image ID 2\n",
      "current Image ID 3\n",
      "current Image ID 4\n",
      "current Image ID 5\n",
      "current Image ID 6\n",
      "current Image ID 7\n",
      "current Image ID 8\n",
      "current Image ID 9\n",
      "current Image ID 10\n",
      "current Image ID 11\n"
     ]
    }
   ],
   "source": [
    "with open(\"classBDCheck.csv\",'w') as csvBD:\n",
    "    csvBD.write(\"%s,%s,%s,%s,%s,%s,%s\\n\"%('numGT','radiusGT','denGT','numPred','radiusPred','denPred','areaIMG'))\n",
    "    for imgID in range(12):\n",
    "        print(\"current Image ID %d\"%imgID)\n",
    "        numGT = 0\n",
    "        numPred = 0\n",
    "        denGT = 0\n",
    "        denPred = 0\n",
    "        areaIMG = 0\n",
    "        gtcsvName = (dict_ID2ImgName[str(imgID)]) +\"_results\" + \".csv\"\n",
    "        current_conversionFactor = 1.0 * pix2nm[gtcsvName][1] / pix2nm[gtcsvName][0] # nm / pixel\n",
    "        areaIMG = pix2nm[gtcsvName][1] * pix2nm[gtcsvName][1] # nm^2\n",
    "        R_gt = list()\n",
    "        R_pred = list()\n",
    "        # Process GT part\n",
    "        currentGTcsv = pd.read_csv(gt_csv_dir + gtcsvName)\n",
    "        # Loop Through all the fitting ellipses\n",
    "        for index,row in currentGTcsv.iterrows():\n",
    "            if currentGTcsv.at[index,'class'] == 1: # 111\n",
    "                numGT += 1\n",
    "                R_gt.append(currentGTcsv.loc[index, 'Major'] * current_conversionFactor)\n",
    "        denGT = numGT * 10.0**5/areaIMG\n",
    "        # Process Pred part\n",
    "        currentPredcsv = pd.read_csv(pred_csv_dir+\"results_\"+str(imgID)+\".csv\")\n",
    "        for index,row in currentPredcsv.iterrows():\n",
    "            if currentPredcsv.at[index,'class'] == 1: # 111\n",
    "                R_pred.append( 2* currentPredcsv.loc[index,\"Reff_nm\"])\n",
    "                numPred += 1\n",
    "        denPred = 10.0**5 * numPred / areaIMG\n",
    "        csvBD.write(\"%d,%.3f,%f,%d,%.3f,%s,%s\\n\"%(numGT,np.mean(R_gt),denGT,numPred, np.mean(R_pred),denPred,areaIMG))"
   ]
  },
  {
   "cell_type": "code",
   "execution_count": null,
   "metadata": {},
   "outputs": [],
   "source": []
  }
 ],
 "metadata": {
  "kernelspec": {
   "display_name": "Python 2",
   "language": "python",
   "name": "python2"
  },
  "language_info": {
   "codemirror_mode": {
    "name": "ipython",
    "version": 2
   },
   "file_extension": ".py",
   "mimetype": "text/x-python",
   "name": "python",
   "nbconvert_exporter": "python",
   "pygments_lexer": "ipython2",
   "version": "2.7.15"
  }
 },
 "nbformat": 4,
 "nbformat_minor": 2
}
