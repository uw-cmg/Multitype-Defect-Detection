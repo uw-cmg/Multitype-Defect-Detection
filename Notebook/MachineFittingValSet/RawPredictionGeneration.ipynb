{
 "cells": [
  {
   "cell_type": "markdown",
   "metadata": {},
   "source": [
    "# First Step of Fitting -- Crop Defects into patches"
   ]
  },
  {
   "cell_type": "code",
   "execution_count": 6,
   "metadata": {},
   "outputs": [
    {
     "name": "stdout",
     "output_type": "stream",
     "text": [
      "/Users/mingrenshen/Projects/multitype-defect-detection\n"
     ]
    }
   ],
   "source": [
    "import os\n",
    "print(os.getcwd())\n",
    "os.chdir(\"/Users/mingrenshen/Projects/multitype-defect-detection/\")"
   ]
  },
  {
   "cell_type": "code",
   "execution_count": 7,
   "metadata": {},
   "outputs": [
    {
     "name": "stdout",
     "output_type": "stream",
     "text": [
      "('total number of test images: ', 12)\n",
      "('type of defects: ', ('111', 'dot', '100'))\n"
     ]
    }
   ],
   "source": [
    "# Import Package\n",
    "import os\n",
    "import cv2\n",
    "import chainer\n",
    "import math\n",
    "from utils import imageUtils\n",
    "from utils import postProcessing\n",
    "from utils import MultiDefectDetectionDataset\n",
    "from utils import evaluation\n",
    "from utils import visualization\n",
    "import numpy as np\n",
    "from PIL import Image\n",
    "from chainercv.links import FasterRCNNVGG16\n",
    "from chainercv.visualizations import vis_bbox\n",
    "from chainercv.utils import write_image\n",
    "from chainercv import utils\n",
    "%matplotlib inline\n",
    "import matplotlib.pyplot as plt\n",
    "\n",
    "#load Data\n",
    "root = './data/3Types/Data3TypesYminXminYmaxXmax9'\n",
    "#dataset = MultiDefectDetectionDataset(data_dir=root, split='train')\n",
    "dataset_val = MultiDefectDetectionDataset(data_dir=root, split='validation2')\n",
    "bbox_label_names = ('111', 'dot','100')\n",
    "# DataSet Statistics\n",
    "# print('total number of training images: ', len(dataset))\n",
    "print('total number of test images: ', len(dataset_val))\n",
    "print('type of defects: ', bbox_label_names)"
   ]
  },
  {
   "cell_type": "code",
   "execution_count": 8,
   "metadata": {},
   "outputs": [],
   "source": [
    "# Running Faster R-CNN prediction model\n",
    "use_gpu = False\n",
    "# Higher NMS\n",
    "proposal_params = {'min_size': 8,'nms_thresh':0.4}\n",
    "model = FasterRCNNVGG16(n_fg_class=3,\n",
    "                        pretrained_model='BestWeigghtPerformance/BestWeight_20190702.npz',\n",
    "                        ratios=[ 0.5, 1, 1.5, 2, 2.5, 3,4,6], anchor_scales=[1, 4, 8, 16], min_size=1024,\n",
    "                        max_size=1024, proposal_creator_params=proposal_params)\n",
    "\n",
    "model.score_thresh = 0.25\n",
    "\n",
    "if use_gpu:\n",
    "    chainer.cuda.get_device_from_id(0).use()\n",
    "    model.to_gpu()"
   ]
  },
  {
   "cell_type": "code",
   "execution_count": 9,
   "metadata": {},
   "outputs": [
    {
     "name": "stdout",
     "output_type": "stream",
     "text": [
      "0\n",
      "14\n",
      "1\n",
      "25\n",
      "2\n",
      "134\n",
      "3\n",
      "142\n",
      "4\n",
      "249\n",
      "5\n",
      "88\n",
      "6\n",
      "176\n",
      "7\n",
      "58\n",
      "8\n",
      "145\n",
      "9\n",
      "144\n",
      "10\n",
      "39\n",
      "11\n",
      "31\n"
     ]
    },
    {
     "data": {
      "image/png": "[encoded data removed]",
      "text/plain": [
       "<Figure size 432x288 with 1 Axes>"
      ]
     },
     "metadata": {
      "needs_background": "light"
     },
     "output_type": "display_data"
    }
   ],
   "source": [
    "resultFolder = './RawResult0p15/'\n",
    "# Loop all testing images\n",
    "with open(resultFolder+\"log.txt\",'w') as logFile:\n",
    "    for imgID in range(len(dataset_val)):\n",
    "        logFile.write(\"%d , %s \\n\"%(imgID,dataset_val.get_image_name(imgID)))\n",
    "        # Creating the storing folder\n",
    "        try:\n",
    "            os.mkdir(resultFolder+str(imgID))\n",
    "            print(imgID)\n",
    "        except OSError:\n",
    "            print(\"Creation of the directory is failed\")\n",
    "        # Run Faster R-CNN Fitting\n",
    "        img, bbox, labels = dataset_val[imgID]\n",
    "        bboxes, labels, scores = model.predict([img])\n",
    "        # Expand BBoxes\n",
    "        _, H, W = img.shape\n",
    "        bboxes = bboxes[0]\n",
    "        bboxes = imageUtils.expand_bbox_with_rate(bboxes, H, W, 0.15)\n",
    "        subimages = list()\n",
    "        for bbox in bboxes:\n",
    "            bbox = bbox.astype(np.int)\n",
    "            subimages.append(img[:, bbox[0]:bbox[2]+1, bbox[1]:bbox[3]+1])\n",
    "        print(len(subimages))\n",
    "        # Saving BBox Information\n",
    "        with open(resultFolder+\"results_\"+str(imgID)+\".csv\",'w') as tmpCSV:\n",
    "            # write the col name information\n",
    "            tmpCSV.write(\"%s,%s,%s,%s,%s,%s\\n\"%(\"id\",\"Ymin\",\"Xmin\",\"Ymax\",\"Xmax\",\"class\"))\n",
    "            for row in range(len(labels[0])):\n",
    "                #print(row)\n",
    "                tmpCSV.write(\"%d,%f,%f,%f,%f,%d\\n\"%(row, bboxes[row][0],bboxes[row][1],bboxes[row][2],bboxes[row][3],labels[0][row]))\n",
    "                #cv2.imshow(\"cropped\", subimages[i])       \n",
    "                #cv2.imwrite('./crop_set1_final/'+str(i+1)+'/'+str(l)+'.jpg', crop_im1)\n",
    "                plt.axis(\"off\")\n",
    "                fig=plt.imshow(subimages[row].transpose((1, 2, 0))[:, :, 0], cmap='gray')\n",
    "                fig.axes.get_xaxis().set_visible(False)\n",
    "                fig.axes.get_yaxis().set_visible(False)\n",
    "                plt.savefig(resultFolder+str(imgID)+\"/\"+str(row)+\".jpg\",bbox_inches='tight', pad_inches = 0, format='jpg')\n",
    "                #plt.imshow(subimages[row].transpose((1, 2, 0))[:, :, 0], cmap='gray')\n",
    "                #fig.savefig(str(imgID)+\"/\"+str(row)+\".jpg\", pad_inches = 0, bbox_inches='tight')\n",
    "                #plt.axis('off')\n",
    "                #plt.savefig(str(imgID)+\"/\"+str(row)+\".jpg\",dpi=150,bbox_inches='tight')"
   ]
  },
  {
   "cell_type": "code",
   "execution_count": 10,
   "metadata": {},
   "outputs": [
    {
     "name": "stdout",
     "output_type": "stream",
     "text": [
      "0\n",
      "14\n",
      "1\n",
      "25\n",
      "2\n",
      "134\n",
      "3\n",
      "142\n",
      "4\n",
      "249\n",
      "5\n",
      "88\n",
      "6\n",
      "176\n",
      "7\n",
      "58\n",
      "8\n",
      "145\n",
      "9\n",
      "144\n",
      "10\n",
      "39\n",
      "11\n",
      "31\n"
     ]
    },
    {
     "data": {
      "image/png": "[encoded data removed]",
      "text/plain": [
       "<Figure size 432x288 with 1 Axes>"
      ]
     },
     "metadata": {
      "needs_background": "light"
     },
     "output_type": "display_data"
    }
   ],
   "source": [
    "resultFolder = './RawResult0p1/'\n",
    "# Loop all testing images\n",
    "with open(resultFolder+\"log.txt\",'w') as logFile:\n",
    "    for imgID in range(len(dataset_val)):\n",
    "        logFile.write(\"%d , %s \\n\"%(imgID,dataset_val.get_image_name(imgID)))\n",
    "        # Creating the storing folder\n",
    "        try:\n",
    "            os.mkdir(resultFolder+str(imgID))\n",
    "            print(imgID)\n",
    "        except OSError:\n",
    "            print(\"Creation of the directory is failed\")\n",
    "        # Run Faster R-CNN Fitting\n",
    "        img, bbox, labels = dataset_val[imgID]\n",
    "        bboxes, labels, scores = model.predict([img])\n",
    "        # Expand BBoxes\n",
    "        _, H, W = img.shape\n",
    "        bboxes = bboxes[0]\n",
    "        bboxes = imageUtils.expand_bbox_with_rate(bboxes, H, W, 0.1)\n",
    "        subimages = list()\n",
    "        for bbox in bboxes:\n",
    "            bbox = bbox.astype(np.int)\n",
    "            subimages.append(img[:, bbox[0]:bbox[2]+1, bbox[1]:bbox[3]+1])\n",
    "        print(len(subimages))\n",
    "        # Saving BBox Information\n",
    "        with open(resultFolder+\"results_\"+str(imgID)+\".csv\",'w') as tmpCSV:\n",
    "            # write the col name information\n",
    "            tmpCSV.write(\"%s,%s,%s,%s,%s,%s\\n\"%(\"id\",\"Ymin\",\"Xmin\",\"Ymax\",\"Xmax\",\"class\"))\n",
    "            for row in range(len(labels[0])):\n",
    "                #print(row)\n",
    "                tmpCSV.write(\"%d,%f,%f,%f,%f,%d\\n\"%(row, bboxes[row][0],bboxes[row][1],bboxes[row][2],bboxes[row][3],labels[0][row]))\n",
    "                #cv2.imshow(\"cropped\", subimages[i])       \n",
    "                #cv2.imwrite('./crop_set1_final/'+str(i+1)+'/'+str(l)+'.jpg', crop_im1)\n",
    "                plt.axis(\"off\")\n",
    "                fig=plt.imshow(subimages[row].transpose((1, 2, 0))[:, :, 0], cmap='gray')\n",
    "                fig.axes.get_xaxis().set_visible(False)\n",
    "                fig.axes.get_yaxis().set_visible(False)\n",
    "                plt.savefig(resultFolder+str(imgID)+\"/\"+str(row)+\".jpg\",bbox_inches='tight', pad_inches = 0, format='jpg')\n",
    "                #plt.imshow(subimages[row].transpose((1, 2, 0))[:, :, 0], cmap='gray')\n",
    "                #fig.savefig(str(imgID)+\"/\"+str(row)+\".jpg\", pad_inches = 0, bbox_inches='tight')\n",
    "                #plt.axis('off')\n",
    "                #plt.savefig(str(imgID)+\"/\"+str(row)+\".jpg\",dpi=150,bbox_inches='tight')"
   ]
  },
  {
   "cell_type": "code",
   "execution_count": 11,
   "metadata": {},
   "outputs": [
    {
     "name": "stdout",
     "output_type": "stream",
     "text": [
      "0\n",
      "14\n",
      "1\n",
      "25\n",
      "2\n",
      "134\n",
      "3\n",
      "142\n",
      "4\n",
      "249\n",
      "5\n",
      "88\n",
      "6\n",
      "176\n",
      "7\n",
      "58\n",
      "8\n",
      "145\n",
      "9\n",
      "144\n",
      "10\n",
      "39\n",
      "11\n",
      "31\n"
     ]
    },
    {
     "data": {
      "image/png": "[encoded data removed]",
      "text/plain": [
       "<Figure size 432x288 with 1 Axes>"
      ]
     },
     "metadata": {
      "needs_background": "light"
     },
     "output_type": "display_data"
    }
   ],
   "source": [
    "resultFolder = './RawResult0p05/'\n",
    "# Loop all testing images\n",
    "with open(resultFolder+\"log.txt\",'w') as logFile:\n",
    "    for imgID in range(len(dataset_val)):\n",
    "        logFile.write(\"%d , %s \\n\"%(imgID,dataset_val.get_image_name(imgID)))\n",
    "        # Creating the storing folder\n",
    "        try:\n",
    "            os.mkdir(resultFolder+str(imgID))\n",
    "            print(imgID)\n",
    "        except OSError:\n",
    "            print(\"Creation of the directory is failed\")\n",
    "        # Run Faster R-CNN Fitting\n",
    "        img, bbox, labels = dataset_val[imgID]\n",
    "        bboxes, labels, scores = model.predict([img])\n",
    "        # Expand BBoxes\n",
    "        _, H, W = img.shape\n",
    "        bboxes = bboxes[0]\n",
    "        bboxes = imageUtils.expand_bbox_with_rate(bboxes, H, W, 0.05)\n",
    "        subimages = list()\n",
    "        for bbox in bboxes:\n",
    "            bbox = bbox.astype(np.int)\n",
    "            subimages.append(img[:, bbox[0]:bbox[2]+1, bbox[1]:bbox[3]+1])\n",
    "        print(len(subimages))\n",
    "        # Saving BBox Information\n",
    "        with open(resultFolder+\"results_\"+str(imgID)+\".csv\",'w') as tmpCSV:\n",
    "            # write the col name information\n",
    "            tmpCSV.write(\"%s,%s,%s,%s,%s,%s\\n\"%(\"id\",\"Ymin\",\"Xmin\",\"Ymax\",\"Xmax\",\"class\"))\n",
    "            for row in range(len(labels[0])):\n",
    "                #print(row)\n",
    "                tmpCSV.write(\"%d,%f,%f,%f,%f,%d\\n\"%(row, bboxes[row][0],bboxes[row][1],bboxes[row][2],bboxes[row][3],labels[0][row]))\n",
    "                #cv2.imshow(\"cropped\", subimages[i])       \n",
    "                #cv2.imwrite('./crop_set1_final/'+str(i+1)+'/'+str(l)+'.jpg', crop_im1)\n",
    "                plt.axis(\"off\")\n",
    "                fig=plt.imshow(subimages[row].transpose((1, 2, 0))[:, :, 0], cmap='gray')\n",
    "                fig.axes.get_xaxis().set_visible(False)\n",
    "                fig.axes.get_yaxis().set_visible(False)\n",
    "                plt.savefig(resultFolder+str(imgID)+\"/\"+str(row)+\".jpg\",bbox_inches='tight', pad_inches = 0, format='jpg')\n",
    "                #plt.imshow(subimages[row].transpose((1, 2, 0))[:, :, 0], cmap='gray')\n",
    "                #fig.savefig(str(imgID)+\"/\"+str(row)+\".jpg\", pad_inches = 0, bbox_inches='tight')\n",
    "                #plt.axis('off')\n",
    "                #plt.savefig(str(imgID)+\"/\"+str(row)+\".jpg\",dpi=150,bbox_inches='tight')"
   ]
  },
  {
   "cell_type": "code",
   "execution_count": 13,
   "metadata": {},
   "outputs": [
    {
     "name": "stdout",
     "output_type": "stream",
     "text": [
      "Creation of the directory is failed\n",
      "14\n",
      "Creation of the directory is failed\n",
      "25\n",
      "Creation of the directory is failed\n",
      "134\n",
      "Creation of the directory is failed\n",
      "142\n",
      "Creation of the directory is failed\n",
      "249\n",
      "Creation of the directory is failed\n",
      "88\n",
      "Creation of the directory is failed\n",
      "176\n",
      "Creation of the directory is failed\n",
      "58\n",
      "Creation of the directory is failed\n",
      "145\n",
      "Creation of the directory is failed\n",
      "144\n",
      "Creation of the directory is failed\n",
      "39\n",
      "Creation of the directory is failed\n",
      "31\n"
     ]
    },
    {
     "data": {
      "image/png": "[encoded data removed]",
      "text/plain": [
       "<Figure size 432x288 with 1 Axes>"
      ]
     },
     "metadata": {
      "needs_background": "light"
     },
     "output_type": "display_data"
    }
   ],
   "source": [
    "resultFolder = './RawResult0p0/'\n",
    "# Loop all testing images\n",
    "with open(resultFolder+\"log.txt\",'w') as logFile:\n",
    "    for imgID in range(len(dataset_val)):\n",
    "        logFile.write(\"%d , %s \\n\"%(imgID,dataset_val.get_image_name(imgID)))\n",
    "        # Creating the storing folder\n",
    "        try:\n",
    "            os.mkdir(resultFolder+str(imgID))\n",
    "            print(imgID)\n",
    "        except OSError:\n",
    "            print(\"Creation of the directory is failed\")\n",
    "        # Run Faster R-CNN Fitting\n",
    "        img, bbox, labels = dataset_val[imgID]\n",
    "        bboxes, labels, scores = model.predict([img])\n",
    "        # Expand BBoxes\n",
    "        _, H, W = img.shape\n",
    "        bboxes = bboxes[0]\n",
    "        bboxes = imageUtils.expand_bbox_with_rate(bboxes, H, W, 0.0)\n",
    "        subimages = list()\n",
    "        for bbox in bboxes:\n",
    "            bbox = bbox.astype(np.int)\n",
    "            subimages.append(img[:, bbox[0]:bbox[2]+1, bbox[1]:bbox[3]+1])\n",
    "        print(len(subimages))\n",
    "        # Saving BBox Information\n",
    "        with open(resultFolder+\"results_\"+str(imgID)+\".csv\",'w') as tmpCSV:\n",
    "            # write the col name information\n",
    "            tmpCSV.write(\"%s,%s,%s,%s,%s,%s\\n\"%(\"id\",\"Ymin\",\"Xmin\",\"Ymax\",\"Xmax\",\"class\"))\n",
    "            for row in range(len(labels[0])):\n",
    "                #print(row)\n",
    "                tmpCSV.write(\"%d,%f,%f,%f,%f,%d\\n\"%(row, bboxes[row][0],bboxes[row][1],bboxes[row][2],bboxes[row][3],labels[0][row]))\n",
    "                #cv2.imshow(\"cropped\", subimages[i])       \n",
    "                #cv2.imwrite('./crop_set1_final/'+str(i+1)+'/'+str(l)+'.jpg', crop_im1)\n",
    "                plt.axis(\"off\")\n",
    "                fig=plt.imshow(subimages[row].transpose((1, 2, 0))[:, :, 0], cmap='gray')\n",
    "                fig.axes.get_xaxis().set_visible(False)\n",
    "                fig.axes.get_yaxis().set_visible(False)\n",
    "                plt.savefig(resultFolder+str(imgID)+\"/\"+str(row)+\".jpg\",bbox_inches='tight', pad_inches = 0, format='jpg')\n",
    "                #plt.imshow(subimages[row].transpose((1, 2, 0))[:, :, 0], cmap='gray')\n",
    "                #fig.savefig(str(imgID)+\"/\"+str(row)+\".jpg\", pad_inches = 0, bbox_inches='tight')\n",
    "                #plt.axis('off')\n",
    "                #plt.savefig(str(imgID)+\"/\"+str(row)+\".jpg\",dpi=150,bbox_inches='tight')"
   ]
  },
  {
   "cell_type": "code",
   "execution_count": null,
   "metadata": {},
   "outputs": [],
   "source": []
  }
 ],
 "metadata": {
  "kernelspec": {
   "display_name": "Python 2",
   "language": "python",
   "name": "python2"
  },
  "language_info": {
   "codemirror_mode": {
    "name": "ipython",
    "version": 2
   },
   "file_extension": ".py",
   "mimetype": "text/x-python",
   "name": "python",
   "nbconvert_exporter": "python",
   "pygments_lexer": "ipython2",
   "version": "2.7.15"
  }
 },
 "nbformat": 4,
 "nbformat_minor": 2
}
