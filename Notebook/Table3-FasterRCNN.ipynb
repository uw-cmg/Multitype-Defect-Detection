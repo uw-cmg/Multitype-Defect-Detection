{
 "cells": [
  {
   "cell_type": "code",
   "execution_count": 1,
   "metadata": {
    "collapsed": true
   },
   "outputs": [
    {
     "name": "stdout",
     "output_type": "stream",
     "text": [
      "total number of training images:  1200\n",
      "total number of test images:  1\n",
      "type of defects:  ('111', 'dot', '100')\n"
     ]
    }
   ],
   "source": [
    "# Import Package\n",
    "from utils import imageUtils\n",
    "from utils import postProcessing\n",
    "from utils import MultiDefectDetectionDataset\n",
    "from utils import evaluation\n",
    "from utils import visualization\n",
    "import numpy as np\n",
    "import os\n",
    "from chainercv.links import FasterRCNNVGG16\n",
    "from chainercv.visualizations import vis_bbox\n",
    "from chainercv.utils import write_image\n",
    "import chainer\n",
    "import math\n",
    "from chainercv import utils\n",
    "%matplotlib inline\n",
    "import matplotlib.pyplot as plt\n",
    "\n",
    "#load Data\n",
    "root = './data/3Types/Data3TypesYminXminYmaxXmax8'\n",
    "dataset = MultiDefectDetectionDataset(data_dir=root, split='train')\n",
    "dataset_human = MultiDefectDetectionDataset(data_dir=root, split='Stablehuman')\n",
    "bbox_label_names = ('111', 'dot','100')\n",
    "# DataSet Statistics\n",
    "print('total number of training images: ', len(dataset))\n",
    "print('total number of test images: ', len(dataset_human))\n",
    "print('type of defects: ', bbox_label_names)\n",
    "# Faster R-CNN model\n",
    "\n",
    "use_gpu = False\n",
    "proposal_params = {'min_size': 8,'nms_thresh':0.4}\n",
    "model = FasterRCNNVGG16(n_fg_class=3,\n",
    "                        pretrained_model='modelResults/snapshot_model_244000_Shufulle.npz',\n",
    "                        ratios=[ 0.5, 1, 1.5, 2, 2.5, 4,8,16], anchor_scales=[1, 4, 8, 16], min_size=1024,\n",
    "                        max_size=1024, proposal_creator_params=proposal_params)\n",
    "if use_gpu:\n",
    "    chainer.cuda.get_device_from_id(0).use()\n",
    "    model.to_gpu()\n",
    "\n",
    "# Problem Images\n",
    "# g2_midonzone_GBtowardsfront_0010.jpg"
   ]
  },
  {
   "cell_type": "code",
   "execution_count": 2,
   "metadata": {
    "collapsed": true
   },
   "outputs": [
    {
     "name": "stderr",
     "output_type": "stream",
     "text": [
      "/Users/mingrenshen/anaconda2/envs/defectDection/lib/python3.5/site-packages/skimage/measure/_regionprops.py:250: UserWarning: regionprops and image moments (including moments, normalized moments, central moments, and inertia tensor) of 2D images will change from xy coordinates to rc coordinates in version 0.16.\n",
      "See http://scikit-image.org/docs/0.14.x/release_notes_and_installation.html#deprecations for details on how to avoid this message.\n",
      "  warn(XY_TO_RC_DEPRECATION_MESSAGE)\n",
      "/Users/mingrenshen/anaconda2/envs/defectDection/lib/python3.5/site-packages/skimage/measure/_regionprops.py:260: UserWarning: regionprops and image moments (including moments, normalized moments, central moments, and inertia tensor) of 2D images will change from xy coordinates to rc coordinates in version 0.16.\n",
      "See http://scikit-image.org/docs/0.14.x/release_notes_and_installation.html#deprecations for details on how to avoid this message.\n",
      "  warn(XY_TO_RC_DEPRECATION_MESSAGE)\n"
     ]
    },
    {
     "name": "stdout",
     "output_type": "stream",
     "text": [
      "(82, 83)\n",
      "(82, 82)\n",
      "(66, 68)\n"
     ]
    },
    {
     "name": "stderr",
     "output_type": "stream",
     "text": [
      "/Users/mingrenshen/anaconda2/envs/defectDection/lib/python3.5/site-packages/skimage/filters/thresholding.py:221: skimage_deprecation: Function ``threshold_adaptive`` is deprecated and will be removed in version 0.15. Use ``threshold_local`` instead.\n",
      "  def threshold_adaptive(image, block_size, method='gaussian', offset=0,\n",
      "/Users/mingrenshen/anaconda2/envs/defectDection/lib/python3.5/site-packages/skimage/filters/thresholding.py:223: UserWarning: The return value of `threshold_local` is a threshold image, while `threshold_adaptive` returned the *thresholded* image.\n",
      "  warn('The return value of `threshold_local` is a threshold image, while '\n",
      "/Users/mingrenshen/anaconda2/envs/defectDection/lib/python3.5/site-packages/skimage/measure/_regionprops.py:250: UserWarning: regionprops and image moments (including moments, normalized moments, central moments, and inertia tensor) of 2D images will change from xy coordinates to rc coordinates in version 0.16.\n",
      "See http://scikit-image.org/docs/0.14.x/release_notes_and_installation.html#deprecations for details on how to avoid this message.\n",
      "  warn(XY_TO_RC_DEPRECATION_MESSAGE)\n",
      "/Users/mingrenshen/anaconda2/envs/defectDection/lib/python3.5/site-packages/skimage/measure/_regionprops.py:260: UserWarning: regionprops and image moments (including moments, normalized moments, central moments, and inertia tensor) of 2D images will change from xy coordinates to rc coordinates in version 0.16.\n",
      "See http://scikit-image.org/docs/0.14.x/release_notes_and_installation.html#deprecations for details on how to avoid this message.\n",
      "  warn(XY_TO_RC_DEPRECATION_MESSAGE)\n",
      "/Users/mingrenshen/anaconda2/envs/defectDection/lib/python3.5/site-packages/skimage/filters/thresholding.py:221: skimage_deprecation: Function ``threshold_adaptive`` is deprecated and will be removed in version 0.15. Use ``threshold_local`` instead.\n",
      "  def threshold_adaptive(image, block_size, method='gaussian', offset=0,\n",
      "/Users/mingrenshen/anaconda2/envs/defectDection/lib/python3.5/site-packages/skimage/filters/thresholding.py:223: UserWarning: The return value of `threshold_local` is a threshold image, while `threshold_adaptive` returned the *thresholded* image.\n",
      "  warn('The return value of `threshold_local` is a threshold image, while '\n",
      "/Users/mingrenshen/anaconda2/envs/defectDection/lib/python3.5/site-packages/skimage/measure/_regionprops.py:250: UserWarning: regionprops and image moments (including moments, normalized moments, central moments, and inertia tensor) of 2D images will change from xy coordinates to rc coordinates in version 0.16.\n",
      "See http://scikit-image.org/docs/0.14.x/release_notes_and_installation.html#deprecations for details on how to avoid this message.\n",
      "  warn(XY_TO_RC_DEPRECATION_MESSAGE)\n",
      "/Users/mingrenshen/anaconda2/envs/defectDection/lib/python3.5/site-packages/skimage/measure/_regionprops.py:260: UserWarning: regionprops and image moments (including moments, normalized moments, central moments, and inertia tensor) of 2D images will change from xy coordinates to rc coordinates in version 0.16.\n",
      "See http://scikit-image.org/docs/0.14.x/release_notes_and_installation.html#deprecations for details on how to avoid this message.\n",
      "  warn(XY_TO_RC_DEPRECATION_MESSAGE)\n",
      "/Users/mingrenshen/anaconda2/envs/defectDection/lib/python3.5/site-packages/skimage/filters/thresholding.py:221: skimage_deprecation: Function ``threshold_adaptive`` is deprecated and will be removed in version 0.15. Use ``threshold_local`` instead.\n",
      "  def threshold_adaptive(image, block_size, method='gaussian', offset=0,\n",
      "/Users/mingrenshen/anaconda2/envs/defectDection/lib/python3.5/site-packages/skimage/filters/thresholding.py:223: UserWarning: The return value of `threshold_local` is a threshold image, while `threshold_adaptive` returned the *thresholded* image.\n",
      "  warn('The return value of `threshold_local` is a threshold image, while '\n",
      "/Users/mingrenshen/anaconda2/envs/defectDection/lib/python3.5/site-packages/skimage/measure/_regionprops.py:250: UserWarning: regionprops and image moments (including moments, normalized moments, central moments, and inertia tensor) of 2D images will change from xy coordinates to rc coordinates in version 0.16.\n",
      "See http://scikit-image.org/docs/0.14.x/release_notes_and_installation.html#deprecations for details on how to avoid this message.\n",
      "  warn(XY_TO_RC_DEPRECATION_MESSAGE)\n",
      "/Users/mingrenshen/anaconda2/envs/defectDection/lib/python3.5/site-packages/skimage/measure/_regionprops.py:260: UserWarning: regionprops and image moments (including moments, normalized moments, central moments, and inertia tensor) of 2D images will change from xy coordinates to rc coordinates in version 0.16.\n",
      "See http://scikit-image.org/docs/0.14.x/release_notes_and_installation.html#deprecations for details on how to avoid this message.\n",
      "  warn(XY_TO_RC_DEPRECATION_MESSAGE)\n"
     ]
    }
   ],
   "source": [
    "# Loop testing images to check the dsitribution of r_eff\n",
    "List_0_111 = list()\n",
    "List_1_blackdot = list()\n",
    "List_2_100 = list()\n",
    "\n",
    "Results = list()\n",
    "Results.append(List_0_111)\n",
    "Results.append(List_1_blackdot)\n",
    "Results.append(List_2_100)\n",
    "\n",
    "# import functions\n",
    "from utils.postProcessing import img_ellipse_fitting_3kinds_stat\n",
    "# img_ellipse_fitting_3kinds_stat(img,bbox,labels,Results)\n",
    "\n",
    "for imgdata in dataset_human:\n",
    "    #fig = plt.figure(figsize=(10,10))\n",
    "    #ax1 = fig.add_subplot(1, 1, 1)\n",
    "    img, bbox, labels = imgdata\n",
    "    model.score_thresh = 0.1\n",
    "    bboxes, labels, scores = model.predict([img])\n",
    "    img_ellipse_fitting_3kinds_stat(img,bboxes[0], labels[0],Results)\n",
    "    #visualization.vis_bbox(img, bbox, labels, label_names=bbox_label_names, ax=ax1)\n",
    "    #plt.show()\n",
    "\n",
    "print(Results)"
   ]
  },
  {
   "cell_type": "code",
   "execution_count": 1,
   "metadata": {},
   "outputs": [
    {
     "ename": "NameError",
     "evalue": "name 'Results' is not defined",
     "output_type": "error",
     "traceback": [
      "\u001b[0;31m---------------------------------------------------------------------------\u001b[0m",
      "\u001b[0;31mNameError\u001b[0m                                 Traceback (most recent call last)",
      "\u001b[0;32m<ipython-input-1-a2dcdecfb02d>\u001b[0m in \u001b[0;36m<module>\u001b[0;34m()\u001b[0m\n\u001b[1;32m      2\u001b[0m \u001b[0mReff100\u001b[0m \u001b[0;34m=\u001b[0m \u001b[0mlist\u001b[0m\u001b[0;34m(\u001b[0m\u001b[0;34m)\u001b[0m\u001b[0;34m\u001b[0m\u001b[0m\n\u001b[1;32m      3\u001b[0m \u001b[0;34m\u001b[0m\u001b[0m\n\u001b[0;32m----> 4\u001b[0;31m \u001b[0;32mfor\u001b[0m \u001b[0mitem\u001b[0m \u001b[0;32min\u001b[0m \u001b[0mResults\u001b[0m\u001b[0;34m[\u001b[0m\u001b[0;36m0\u001b[0m\u001b[0;34m]\u001b[0m\u001b[0;34m:\u001b[0m\u001b[0;34m\u001b[0m\u001b[0m\n\u001b[0m\u001b[1;32m      5\u001b[0m     \u001b[0mReff111\u001b[0m\u001b[0;34m.\u001b[0m\u001b[0mappend\u001b[0m\u001b[0;34m(\u001b[0m\u001b[0mnp\u001b[0m\u001b[0;34m.\u001b[0m\u001b[0mmax\u001b[0m\u001b[0;34m(\u001b[0m\u001b[0mitem\u001b[0m\u001b[0;34m)\u001b[0m\u001b[0;34m*\u001b[0m\u001b[0;36m2\u001b[0m\u001b[0;34m)\u001b[0m\u001b[0;34m\u001b[0m\u001b[0m\n\u001b[1;32m      6\u001b[0m \u001b[0;34m\u001b[0m\u001b[0m\n",
      "\u001b[0;31mNameError\u001b[0m: name 'Results' is not defined"
     ]
    }
   ],
   "source": [
    "Reff111 = list()\n",
    "Reff100 = list()\n",
    "\n",
    "for item in Results[0]:\n",
    "    Reff111.append(np.max(item)*2)\n",
    "    \n",
    "for item in Results[2]:\n",
    "    Reff100.append(np.max(item)*2)"
   ]
  },
  {
   "cell_type": "code",
   "execution_count": 9,
   "metadata": {},
   "outputs": [
    {
     "name": "stdout",
     "output_type": "stream",
     "text": [
      "The average effective radius of 111 is 45.622222\n",
      "The average effective radius of BlackDots is 7.660000\n",
      "The average effective radius of 100 is 43.428571\n"
     ]
    }
   ],
   "source": [
    "print('The average effective radius of 111 is %f'%(np.average(Reff111)))\n",
    "print('The average effective radius of BlackDots is %f'%(np.average(Results[1])))\n",
    "print('The average effective radius of 100 is %f'%(np.average(Reff100)))"
   ]
  },
  {
   "cell_type": "code",
   "execution_count": 10,
   "metadata": {},
   "outputs": [
    {
     "name": "stdout",
     "output_type": "stream",
     "text": [
      "The SEM radius of 111 is 3.777503\n",
      "The SEM radius of 100 is 3.600972\n",
      "The SEM radius of BlackDots is 0.246876\n"
     ]
    }
   ],
   "source": [
    "# Calculate SEM\n",
    "print('The SEM radius of 111 is %f'%(np.std(Reff111)/np.sqrt(len(Reff111))))\n",
    "print('The SEM radius of 100 is %f'%(np.std(Reff100)/np.sqrt(len(Reff100))))\n",
    "print('The SEM radius of BlackDots is %f'%(np.std(Results[1])/np.sqrt(len(Results[1]))))"
   ]
  },
  {
   "cell_type": "code",
   "execution_count": 23,
   "metadata": {},
   "outputs": [
    {
     "name": "stdout",
     "output_type": "stream",
     "text": [
      "\n",
      "The average effective radius of 111 is 20.127729\n",
      "\n",
      "The average effective radius of BlackDots is 7.700002\n",
      "\n",
      "The average effective radius of 100 is 19.087805\n"
     ]
    },
    {
     "data": {
      "text/plain": [
       "<Figure size 1080x432 with 0 Axes>"
      ]
     },
     "execution_count": 0,
     "metadata": {},
     "output_type": "execute_result"
    },
    {
     "data": {
      "image/png": "[encoded data removed]",
      "text/plain": [
       "<Figure size 432x288 with 1 Axes>"
      ]
     },
     "metadata": {},
     "output_type": "display_data"
    },
    {
     "data": {
      "text/plain": [
       "<Figure size 1080x432 with 0 Axes>"
      ]
     },
     "execution_count": 0,
     "metadata": {},
     "output_type": "execute_result"
    },
    {
     "data": {
      "image/png": "[encoded data removed]",
      "text/plain": [
       "<Figure size 432x288 with 1 Axes>"
      ]
     },
     "metadata": {},
     "output_type": "display_data"
    },
    {
     "data": {
      "text/plain": [
       "<Figure size 1080x432 with 0 Axes>"
      ]
     },
     "execution_count": 0,
     "metadata": {},
     "output_type": "execute_result"
    },
    {
     "data": {
      "image/png": "[encoded data removed]",
      "text/plain": [
       "<Figure size 432x288 with 1 Axes>"
      ]
     },
     "metadata": {},
     "output_type": "display_data"
    }
   ],
   "source": [
    "# Plot Size Distribution in each type\n",
    "for typeInd in range(3):\n",
    "    DF= pd.DataFrame(columns=['R_eff'])\n",
    "    for (index,RaRb) in enumerate(Results[typeInd]):\n",
    "        DF.loc[index] = [np.sqrt(RaRb[0] * RaRb[1] )]\n",
    "    print()\n",
    "    if typeInd == 0:\n",
    "        print('The average effective radius of 111 is %f'%(np.average(DF['R_eff'])))\n",
    "    elif typeInd == 1:\n",
    "        print('The average effective radius of BlackDots is %f'%(np.average(DF['R_eff'])))\n",
    "    else:\n",
    "        print('The average effective radius of 100 is %f'%( np.average(DF['R_eff']) ))\n",
    "    # Ploting    \n",
    "    histgramFileName = \"Fitted_Hist_Effective_Radius_of_\" + str(typeInd)\n",
    "    fig = plt.figure(figsize=(15,6))\n",
    "    fig, ax = plt.subplots(1,1)\n",
    "    DF.hist(bins=50, ax=ax)\n",
    "    plt.title('Fitted Effective Radius Distribution of Type ' + str(typeInd) + ' Defects')\n",
    "    fig.savefig(histgramFileName)"
   ]
  },
  {
   "cell_type": "code",
   "execution_count": null,
   "metadata": {},
   "outputs": [],
   "source": []
  }
 ],
 "metadata": {
  "kernelspec": {
   "display_name": "Python 2",
   "language": "python",
   "name": "python2"
  },
  "language_info": {
   "codemirror_mode": {
    "name": "ipython",
    "version": 2
   },
   "file_extension": ".py",
   "mimetype": "text/x-python",
   "name": "python",
   "nbconvert_exporter": "python",
   "pygments_lexer": "ipython2",
   "version": "2.7.15"
  }
 },
 "nbformat": 4,
 "nbformat_minor": 1
}
