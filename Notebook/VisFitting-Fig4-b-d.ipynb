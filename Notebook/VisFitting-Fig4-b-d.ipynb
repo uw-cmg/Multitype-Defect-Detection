{
 "cells": [
  {
   "cell_type": "markdown",
   "metadata": {},
   "source": [
    "# Plot 4d"
   ]
  },
  {
   "cell_type": "markdown",
   "metadata": {},
   "source": [
    "# Vis of the Fitting as a whole image to check the results CSV"
   ]
  },
  {
   "cell_type": "code",
   "execution_count": 3,
   "metadata": {},
   "outputs": [
    {
     "name": "stdout",
     "output_type": "stream",
     "text": [
      "/Users/mingrenshen/Projects/multitype-defect-detection/Notebook\n"
     ]
    }
   ],
   "source": [
    "# Results Path\n",
    "import os\n",
    "# Import packages\n",
    "import re\n",
    "\n",
    "import cv2\n",
    "import numpy as np\n",
    "import pandas as pd\n",
    "from matplotlib import pyplot as plt\n",
    "\n",
    "print(os.getcwd())\n",
    "datPath = \"../FittingFunctions/outputFitting0p05/\""
   ]
  },
  {
   "cell_type": "code",
   "execution_count": 4,
   "metadata": {},
   "outputs": [],
   "source": [
    "dict_ID2ImgName = {'11': 'grid1_roi2_500kx_0p5nm_haadf1_0047', '10': 'grid1_roi1_500kx_0p5nm_haadf1_0025', '1': '0501_300kx_1nm_clhaadf3_0014', '0': '0501_300kx_1nm_clhaadf3_0010', '3': '200kV_500kx_p2nm_8cmCL_grain1_0056 - Copy', '2': '1ROI_100kx_4100CL_foil1', '5': '5401_300kx_1nm_clhaadf3_0020', '4': '200kV_500kx_p2nm_8cmCL_grain2_0036', '7': 'BF X500K, 06 (2)', '6': '8ROI_100kx_4100CL_foil1', '9': 'g2_midonzone_GBtowardsfront_0010', '8': 'g1_backonzone_GBtowardsfrom_0007'}"
   ]
  },
  {
   "cell_type": "code",
   "execution_count": 5,
   "metadata": {},
   "outputs": [
    {
     "data": {
      "text/plain": [
       "<Figure size 432x288 with 0 Axes>"
      ]
     },
     "metadata": {},
     "output_type": "display_data"
    },
    {
     "data": {
      "text/plain": [
       "<Figure size 432x288 with 0 Axes>"
      ]
     },
     "metadata": {},
     "output_type": "display_data"
    },
    {
     "data": {
      "text/plain": [
       "<Figure size 432x288 with 0 Axes>"
      ]
     },
     "metadata": {},
     "output_type": "display_data"
    },
    {
     "data": {
      "text/plain": [
       "<Figure size 432x288 with 0 Axes>"
      ]
     },
     "metadata": {},
     "output_type": "display_data"
    },
    {
     "data": {
      "text/plain": [
       "<Figure size 432x288 with 0 Axes>"
      ]
     },
     "metadata": {},
     "output_type": "display_data"
    },
    {
     "data": {
      "text/plain": [
       "<Figure size 432x288 with 0 Axes>"
      ]
     },
     "metadata": {},
     "output_type": "display_data"
    },
    {
     "data": {
      "text/plain": [
       "<Figure size 432x288 with 0 Axes>"
      ]
     },
     "metadata": {},
     "output_type": "display_data"
    },
    {
     "data": {
      "text/plain": [
       "<Figure size 432x288 with 0 Axes>"
      ]
     },
     "metadata": {},
     "output_type": "display_data"
    },
    {
     "data": {
      "text/plain": [
       "<Figure size 432x288 with 0 Axes>"
      ]
     },
     "metadata": {},
     "output_type": "display_data"
    },
    {
     "data": {
      "text/plain": [
       "<Figure size 432x288 with 0 Axes>"
      ]
     },
     "metadata": {},
     "output_type": "display_data"
    },
    {
     "data": {
      "text/plain": [
       "<Figure size 432x288 with 0 Axes>"
      ]
     },
     "metadata": {},
     "output_type": "display_data"
    },
    {
     "data": {
      "text/plain": [
       "<Figure size 432x288 with 0 Axes>"
      ]
     },
     "metadata": {},
     "output_type": "display_data"
    }
   ],
   "source": [
    "for imgID in range(12):\n",
    "    currentResult = pd.read_csv(datPath + \"results_\" + str(imgID) + \".csv\")\n",
    "    fig = plt.figure()\n",
    "    #ax = fig.add_subplot(1, 1, 1)\n",
    "    img = cv2.imread(\"./HumanValSetCheck/valIMG/\" + dict_ID2ImgName[str(imgID)] + \".jpg\")\n",
    "    #plt.imshow(img)\n",
    "\n",
    "    # Loop Through all the fitting ellipses\n",
    "    for index,row in currentResult.iterrows():\n",
    "        if currentResult.at[index,'class'] == 0: # 111\n",
    "            cv2.ellipse(img, \n",
    "                       (( currentResult.at[index,'center_x_real'],currentResult.at[index,'center_y_real']),\n",
    "                        ( currentResult.at[index,'minor_axe'],currentResult.at[index,'major_axe']), \n",
    "                        currentResult.at[index,'RotAngle_degree']), \n",
    "                        (0,0,255),2)\n",
    "        elif currentResult.at[index,'class'] == 1: # Black Dot\n",
    "            cv2.ellipse(img, \n",
    "                       (( currentResult.at[index,'center_x_real'],currentResult.at[index,'center_y_real']),\n",
    "                        ( currentResult.at[index,'minor_axe'],currentResult.at[index,'major_axe']), \n",
    "                        currentResult.at[index,'RotAngle_degree']), \n",
    "                        (255,0,0),2)\n",
    "        else:\n",
    "            # 100\n",
    "            assert( currentResult.at[index,'class'] == 2)\n",
    "            cv2.ellipse(img, \n",
    "               (( currentResult.at[index,'center_x_real'],currentResult.at[index,'center_y_real']),\n",
    "                ( currentResult.at[index,'minor_axe'],currentResult.at[index,'major_axe']), \n",
    "                currentResult.at[index,'RotAngle_degree']), \n",
    "                (0,255,255),2)\n",
    "    cv2.imwrite('fitted_'+str(imgID)+'.jpg', img)"
   ]
  },
  {
   "cell_type": "markdown",
   "metadata": {},
   "source": [
    "# Plot 4c"
   ]
  },
  {
   "cell_type": "code",
   "execution_count": 7,
   "metadata": {},
   "outputs": [
    {
     "data": {
      "text/plain": [
       "<Figure size 432x288 with 0 Axes>"
      ]
     },
     "metadata": {},
     "output_type": "display_data"
    },
    {
     "data": {
      "text/plain": [
       "<Figure size 432x288 with 0 Axes>"
      ]
     },
     "metadata": {},
     "output_type": "display_data"
    },
    {
     "data": {
      "text/plain": [
       "<Figure size 432x288 with 0 Axes>"
      ]
     },
     "metadata": {},
     "output_type": "display_data"
    },
    {
     "data": {
      "text/plain": [
       "<Figure size 432x288 with 0 Axes>"
      ]
     },
     "metadata": {},
     "output_type": "display_data"
    },
    {
     "data": {
      "text/plain": [
       "<Figure size 432x288 with 0 Axes>"
      ]
     },
     "metadata": {},
     "output_type": "display_data"
    },
    {
     "data": {
      "text/plain": [
       "<Figure size 432x288 with 0 Axes>"
      ]
     },
     "metadata": {},
     "output_type": "display_data"
    },
    {
     "data": {
      "text/plain": [
       "<Figure size 432x288 with 0 Axes>"
      ]
     },
     "metadata": {},
     "output_type": "display_data"
    },
    {
     "data": {
      "text/plain": [
       "<Figure size 432x288 with 0 Axes>"
      ]
     },
     "metadata": {},
     "output_type": "display_data"
    },
    {
     "data": {
      "text/plain": [
       "<Figure size 432x288 with 0 Axes>"
      ]
     },
     "metadata": {},
     "output_type": "display_data"
    },
    {
     "data": {
      "text/plain": [
       "<Figure size 432x288 with 0 Axes>"
      ]
     },
     "metadata": {},
     "output_type": "display_data"
    },
    {
     "data": {
      "text/plain": [
       "<Figure size 432x288 with 0 Axes>"
      ]
     },
     "metadata": {},
     "output_type": "display_data"
    },
    {
     "data": {
      "text/plain": [
       "<Figure size 432x288 with 0 Axes>"
      ]
     },
     "metadata": {},
     "output_type": "display_data"
    }
   ],
   "source": [
    "for imgID in range(12):\n",
    "    currentResult = pd.read_csv(datPath + \"results_\" + str(imgID) + \".csv\")\n",
    "    fig = plt.figure()\n",
    "    #ax = fig.add_subplot(1, 1, 1)\n",
    "    img = cv2.imread(\"./HumanValSetCheck/valIMG/\" + dict_ID2ImgName[str(imgID)] + \".jpg\")\n",
    "    #plt.imshow(img)\n",
    "\n",
    "    # Loop Through all the fitting ellipses\n",
    "    for index,row in currentResult.iterrows():\n",
    "        if currentResult.at[index,'class'] == 0: # 111\n",
    "            cv2.rectangle(img,\n",
    "                         (int(currentResult.at[index,'Xmin']),int(currentResult.at[index,'Ymin'])),\n",
    "                         (int(currentResult.at[index,'Xmax']),int(currentResult.at[index,'Ymax'])),\n",
    "                         (0,0,255),2) \n",
    "        elif currentResult.at[index,'class'] == 1: # Black Dot\n",
    "            cv2.rectangle(img,\n",
    "                         (int(currentResult.at[index,'Xmin']),int(currentResult.at[index,'Ymin'])),\n",
    "                         (int(currentResult.at[index,'Xmax']),int(currentResult.at[index,'Ymax'])),\n",
    "                         (255,0,0),2) \n",
    "        else:\n",
    "            # 100\n",
    "            assert( currentResult.at[index,'class'] == 2)\n",
    "            cv2.rectangle(img,\n",
    "                         (int(currentResult.at[index,'Xmin']),int(currentResult.at[index,'Ymin'])),\n",
    "                         (int(currentResult.at[index,'Xmax']),int(currentResult.at[index,'Ymax'])),\n",
    "                         (0,255,255),2) \n",
    "    cv2.imwrite('PredicttedBBox_'+str(imgID)+'.jpg', img)"
   ]
  },
  {
   "cell_type": "code",
   "execution_count": null,
   "metadata": {},
   "outputs": [],
   "source": []
  },
  {
   "cell_type": "code",
   "execution_count": null,
   "metadata": {},
   "outputs": [],
   "source": []
  },
  {
   "cell_type": "code",
   "execution_count": null,
   "metadata": {},
   "outputs": [],
   "source": []
  }
 ],
 "metadata": {
  "kernelspec": {
   "display_name": "Python 2",
   "language": "python",
   "name": "python2"
  },
  "language_info": {
   "codemirror_mode": {
    "name": "ipython",
    "version": 2
   },
   "file_extension": ".py",
   "mimetype": "text/x-python",
   "name": "python",
   "nbconvert_exporter": "python",
   "pygments_lexer": "ipython2",
   "version": "2.7.15"
  }
 },
 "nbformat": 4,
 "nbformat_minor": 2
}
