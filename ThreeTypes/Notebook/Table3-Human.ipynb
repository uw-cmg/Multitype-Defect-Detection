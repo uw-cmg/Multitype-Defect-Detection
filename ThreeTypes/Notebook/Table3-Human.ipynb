{
 "cells": [
  {
   "cell_type": "heading",
   "metadata": {
    "collapsed": true
   },
   "level": 1,
   "source": [
    "## Import data"
   ]
  },
  {
   "cell_type": "code",
   "execution_count": 1,
   "metadata": {},
   "outputs": [],
   "source": [
    "raw_root_dir = \"./Geometry/StableHumanTest/\""
   ]
  },
  {
   "cell_type": "heading",
   "metadata": {},
   "level": 2,
   "source": [
    "## import package"
   ]
  },
  {
   "cell_type": "code",
   "execution_count": 2,
   "metadata": {},
   "outputs": [
    {
     "name": "stdout",
     "output_type": "stream",
     "text": [
      "['.DS_Store', 'image1', 'image5', 'image3']\n"
     ]
    }
   ],
   "source": [
    "import os\n",
    "import pandas as pd\n",
    "import numpy as np\n",
    "import matplotlib.pyplot as plt\n",
    "# import time\n",
    "#os.getcwd()\n",
    "print(os.listdir(raw_root_dir))"
   ]
  },
  {
   "cell_type": "code",
   "execution_count": 3,
   "metadata": {},
   "outputs": [
    {
     "name": "stdout",
     "output_type": "stream",
     "text": [
      "1ROI_100kx_4100CL_foil1_results.csv\n1ROI_100kx_4100CL_foil1_log.txt\n{0: [1, 28], 1: [52, 110], 2: [29, 51]}\n1\n28\n"
     ]
    },
    {
     "name": "stderr",
     "output_type": "stream",
     "text": [
      "/Users/mingrenshen/anaconda2/envs/defectDection/lib/python3.5/site-packages/ipykernel_launcher.py:65: SettingWithCopyWarning: \nA value is trying to be set on a copy of a slice from a DataFrame\n\nSee the caveats in the documentation: http://pandas.pydata.org/pandas-docs/stable/indexing.html#indexing-view-versus-copy\n"
     ]
    },
    {
     "name": "stdout",
     "output_type": "stream",
     "text": [
      "52\n110\n29\n51\n"
     ]
    },
    {
     "name": "stderr",
     "output_type": "stream",
     "text": [
      "/Users/mingrenshen/anaconda2/envs/defectDection/lib/python3.5/site-packages/ipykernel_launcher.py:73: SettingWithCopyWarning: \nA value is trying to be set on a copy of a slice from a DataFrame\n\nSee the caveats in the documentation: http://pandas.pydata.org/pandas-docs/stable/indexing.html#indexing-view-versus-copy\n"
     ]
    },
    {
     "name": "stdout",
     "output_type": "stream",
     "text": [
      "BF X500K, 09 (3)_results.csv\nBF X500K, 09 (3)_log.txt\n{0: [1, 33], 1: [39, 44], 2: [34, 38]}\n1\n33\n"
     ]
    },
    {
     "name": "stdout",
     "output_type": "stream",
     "text": [
      "39\n44\n34\n38\n0501_300kx_1nm_clhaadf3_0028_results.csv\n0501_300kx_1nm_clhaadf3_0028_log.txt\n{0: [1, 10], 1: [12, 15], 2: [11, 11]}\n1\n10\n"
     ]
    },
    {
     "name": "stdout",
     "output_type": "stream",
     "text": [
      "12\n15\n11\n11\n"
     ]
    }
   ],
   "source": [
    "List_0_111 = list()\n",
    "List_1_blackdot = list()\n",
    "List_2_100 = list()\n",
    "\n",
    "Results = list()\n",
    "Results.append(List_0_111)\n",
    "Results.append(List_1_blackdot)\n",
    "Results.append(List_2_100)\n",
    "\n",
    "for folder in os.listdir(raw_root_dir):\n",
    "    #print(folder)\n",
    "    if folder == '.DS_Store' or folder == 'HumanTest.ipynb':\n",
    "        pass\n",
    "    else:\n",
    "        folderPath = raw_root_dir + '/' + folder + '/'\n",
    "        # print(folderPath)\n",
    "        # get txt file and csv file\n",
    "        for f in os.listdir(folderPath):\n",
    "            fs = f.split('.')\n",
    "            #print(fs)\n",
    "            if fs[len(fs)-1] == 'txt':\n",
    "                ftxt = f\n",
    "            if fs[len(fs)-1] == 'csv':\n",
    "                fcsv = f\n",
    "        \n",
    "        print(fcsv)\n",
    "        print(ftxt)\n",
    "        \n",
    "        # get ftxt content\n",
    "        def parsetxt(filename):\n",
    "            with open(filename) as f:\n",
    "                contents = {}\n",
    "                for num in range(3):\n",
    "                    f.readline()\n",
    "                    line = f.readline()\n",
    "                    contents[num] = line.strip().split()\n",
    "                    for length in range(len(contents[num])):\n",
    "                        contents[num][length] = int(contents[num][length])\n",
    "                    f.readline()\n",
    "            return contents\n",
    "        \n",
    "        \n",
    "        logDict = parsetxt(folderPath + '/' + ftxt)\n",
    "        #print(cc)\n",
    "        print(logDict)\n",
    "        DFstat = pd.read_csv(folderPath + '/' + fcsv)\n",
    "        \n",
    "        # get the effective radius of ellipse\n",
    "        \n",
    "        DFstat['reff'] = np.sqrt(DFstat['Major'] * DFstat['Minor'] * 0.25)\n",
    "        \n",
    "        Defects = list()\n",
    "        Defects.append(logDict[0])\n",
    "        Defects.append(logDict[1])\n",
    "        Defects.append(logDict[2])\n",
    "        \n",
    "        \n",
    "        for index,(r1,r2) in enumerate(Defects):\n",
    "            print(r1)\n",
    "            print(r2)\n",
    "            # 111\n",
    "            if index == 0:\n",
    "                for i in range(r1,r2+1):\n",
    "                    Results[index].append(DFstat['Major'][i-1])\n",
    "                    DFstat['reff'][i-1]=DFstat['Major'][i-1] \n",
    "            elif index == 1: # Balck Dots\n",
    "                for i in range(r1,r2+1):\n",
    "                    Results[index].append(DFstat['reff'][i-1])\n",
    "            else:\n",
    "                assert index == 2\n",
    "                for i in range(r1,r2+1):\n",
    "                    Results[index].append(DFstat['Major'][i-1])\n",
    "                    DFstat['reff'][i-1] = DFstat['Major'][i-1] \n"
   ]
  },
  {
   "cell_type": "code",
   "execution_count": 7,
   "metadata": {},
   "outputs": [
    {
     "name": "stdout",
     "output_type": "stream",
     "text": [
      "[[82.620000000000005, 46.134999999999998, 50.968999999999994, 34.981000000000002, 29.653000000000002, 35.411000000000001, 72.996000000000009, 30.584, 28.454999999999998, 42.606999999999999, 41.601000000000006, 30.148000000000003, 64.198999999999998, 29.131, 37.417000000000002, 74.454999999999998, 41.152999999999999, 31.941999999999997, 46.928000000000004, 25.538, 55.506999999999998, 31.233000000000001, 72.221999999999994, 23.671999999999997, 22.061999999999998, 22.061999999999998, 33.869, 77.837000000000003, 32.091999999999999, 59.108000000000004, 104.861, 34.031999999999996, 62.509999999999998, 188.23699999999999, 76.363, 79.810000000000002, 113.181, 100.89, 61.986999999999995, 64.13600000000001, 117.795, 142.57499999999999, 58.258999999999993, 113.425, 125.36399999999999, 27.535999999999998, 66.507000000000005, 41.546000000000006, 29.695999999999998, 19.869, 21.710000000000001, 24.274000000000001, 22.468000000000004, 26.84, 39.008000000000003, 35.091999999999999, 20.007999999999999, 40.024000000000001, 38.648000000000003, 223.34099999999998, 34.849000000000004, 64.850999999999999, 45.386000000000003, 108.074, 69.823000000000008, 107.169, 166.61700000000002, 57.306000000000004, 82.504999999999995, 45.588999999999999, 31.190000000000001], [7.8783861291510711, 7.4636370490532293, 5.0146561447421298, 3.6127134539013741, 8.3491676231825647, 6.4576058256911288, 7.6739867083544011, 5.1089517271158469, 6.4576058256911288, 5.613550413953722, 5.1090174202090948, 5.5851948488839671, 4.1842009989961042, 5.1090013211977157, 6.7467071968479564, 5.585345826356682, 5.1089517271158469, 7.8784457699472688, 7.4634421515812663, 6.6517636571062857, 4.4423875337480405, 7.3127551237546582, 7.9789338573521205, 7.0239985051251264, 7.4636370490532293, 6.6517558584181371, 7.0467221812698142, 6.4328049869399893, 7.5058829427323204, 7.6529717757221611, 9.8692790516835629, 9.75569500343261, 7.898705985792863, 8.3681609090647857, 7.6529101817543888, 7.3995059294523173, 7.0469037349746735, 10.155196182250741, 7.8176810820089093, 10.689884049885668, 9.75569500343261, 9.2016401798809753, 6.9328781901891219, 6.5066972612839455, 9.3732030277808462, 8.849112582626578, 10.372403807700509, 9.6077110697605796, 8.8669317692198355, 5.1401229070908414, 7.3560318106979388, 7.9388579153427354, 8.9206396911880699, 9.6573801830517159, 8.6118962342796479, 8.9027045048120073, 9.5911628075014956, 13.134862094822315, 9.6077786844826942, 12.19232719787326, 13.704114190636329, 18.839083178329034, 9.2016237154102321, 11.465786758875293, 9.1147726247010681, 9.0798200422695601, 13.061803340274269, 8.556250843681477, 8.8488625116452102], [18.475999999999999, 20.701999999999998, 32.540999999999997, 28.809000000000001, 23.728000000000002, 27.318000000000001, 55.171999999999997, 23.263999999999999, 19.437999999999999, 33.966999999999999, 23.564, 85.937999999999988, 41.271000000000001, 44.956000000000003, 61.201000000000001, 43.533000000000001, 49.253, 51.375, 63.911000000000001, 56.493000000000002, 25.524000000000001, 29.690999999999999, 17.312999999999999, 46.305, 79.786000000000001, 72.701999999999998, 106.42700000000001, 45.223999999999997, 31.158000000000001]]\n"
     ]
    }
   ],
   "source": [
    "print(Results)"
   ]
  },
  {
   "cell_type": "code",
   "execution_count": 4,
   "metadata": {},
   "outputs": [
    {
     "name": "stdout",
     "output_type": "stream",
     "text": [
      "The average effective radius of 111 is 59.717437\nThe average effective radius of BlackDots is 8.139279\nThe average effective radius of 100 is 43.415172\n"
     ]
    }
   ],
   "source": [
    "print('The average effective radius of 111 is %f'%(np.average(Results[0])))\n",
    "print('The average effective radius of BlackDots is %f'%(np.average(Results[1])))\n",
    "print('The average effective radius of 100 is %f'%(np.average(Results[2])))"
   ]
  },
  {
   "cell_type": "code",
   "execution_count": 7,
   "metadata": {},
   "outputs": [
    {
     "name": "stdout",
     "output_type": "stream",
     "text": [
      "The average effective radius of 111 is 4.819701\nThe average effective radius of BlackDots is 0.295431\nThe average effective radius of 100 is 4.086085\n"
     ]
    }
   ],
   "source": [
    "# calculate SEM\n",
    "print('The SEM radius of 111 is %f'%(np.std(Results[0])/np.sqrt(len(Results[0]))))\n",
    "print('The SEM radius of 100 is %f'%(np.std(Results[2])/np.sqrt(len(Results[2]))))\n",
    "print('The SEM radius of BlackDots is %f'%(np.std(Results[1])/np.sqrt(len(Results[1]))))"
   ]
  },
  {
   "cell_type": "code",
   "execution_count": 10,
   "metadata": {},
   "outputs": [
    {
     "data": {
      "text/plain": [
       "<Figure size 1080x432 with 0 Axes>"
      ]
     },
     "execution_count": 0,
     "metadata": {},
     "output_type": "execute_result"
    },
    {
     "data": {
      "image/png": "[encoded data removed]",
      "text/plain": [
       "<Figure size 432x288 with 1 Axes>"
      ]
     },
     "metadata": {},
     "output_type": "display_data"
    },
    {
     "data": {
      "text/plain": [
       "<Figure size 1080x432 with 0 Axes>"
      ]
     },
     "execution_count": 0,
     "metadata": {},
     "output_type": "execute_result"
    },
    {
     "data": {
      "image/png": "[encoded data removed]",
      "text/plain": [
       "<Figure size 432x288 with 1 Axes>"
      ]
     },
     "metadata": {},
     "output_type": "display_data"
    },
    {
     "data": {
      "text/plain": [
       "<Figure size 1080x432 with 0 Axes>"
      ]
     },
     "execution_count": 0,
     "metadata": {},
     "output_type": "execute_result"
    },
    {
     "data": {
      "image/png": "[encoded data removed]",
      "text/plain": [
       "<Figure size 432x288 with 1 Axes>"
      ]
     },
     "metadata": {},
     "output_type": "display_data"
    }
   ],
   "source": [
    "# Plot Size Distribution in each type\n",
    "\n",
    "for typeInd in range(3):\n",
    "    DF= pd.DataFrame(columns=['R_eff'])\n",
    "    for (index,R_eff) in enumerate(Results[typeInd]):\n",
    "        DF.loc[index] = [R_eff]\n",
    "    # Ploting    \n",
    "    histgramFileName = \"Hist_Effective_Radius_of_\" + str(typeInd)\n",
    "    fig = plt.figure(figsize=(15,6))\n",
    "    fig, ax = plt.subplots(1,1)\n",
    "    DF.hist(bins=50, ax=ax)\n",
    "    plt.title('The Effective Radius Distribution of Type ' + str(typeInd) + ' Defects')\n",
    "    fig.savefig(histgramFileName)"
   ]
  },
  {
   "cell_type": "heading",
   "metadata": {},
   "level": 2,
   "source": [
    "## The End"
   ]
  },
  {
   "cell_type": "code",
   "execution_count": null,
   "metadata": {},
   "outputs": [],
   "source": [
    "\n",
    "\n"
   ]
  }
 ],
 "metadata": {
  "kernelspec": {
   "display_name": "Python 2",
   "language": "python",
   "name": "python2"
  },
  "language_info": {
   "codemirror_mode": {
    "name": "ipython",
    "version": 2
   },
   "file_extension": ".py",
   "mimetype": "text/x-python",
   "name": "python",
   "nbconvert_exporter": "python",
   "pygments_lexer": "ipython2",
   "version": "2.7.6"
  }
 },
 "nbformat": 4,
 "nbformat_minor": 0
}
