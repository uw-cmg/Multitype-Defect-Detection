{
 "cells": [
  {
   "cell_type": "heading",
   "metadata": {
    "collapsed": true
   },
   "level": 1,
   "source": [
    "## Import data"
   ]
  },
  {
   "cell_type": "code",
   "execution_count": 1,
   "metadata": {},
   "outputs": [],
   "source": [
    "raw_root_dir = \"./Geometry/HumanTest/\""
   ]
  },
  {
   "cell_type": "heading",
   "metadata": {},
   "level": 2,
   "source": [
    "## import package"
   ]
  },
  {
   "cell_type": "code",
   "execution_count": 2,
   "metadata": {},
   "outputs": [
    {
     "name": "stdout",
     "output_type": "stream",
     "text": [
      "['HumanTest.ipynb', '.DS_Store', 'image1', 'image6', 'image5', 'image2', 'image3', 'image4']\n"
     ]
    }
   ],
   "source": [
    "import os\n",
    "import pandas as pd\n",
    "import numpy as np\n",
    "import matplotlib.pyplot as plt\n",
    "# import time\n",
    "#os.getcwd()\n",
    "print(os.listdir(raw_root_dir))"
   ]
  },
  {
   "cell_type": "code",
   "execution_count": 8,
   "metadata": {},
   "outputs": [
    {
     "name": "stdout",
     "output_type": "stream",
     "text": [
      "1ROI_100kx_4100CL_foil1_results.csv\n1ROI_100kx_4100CL_foil1_log.txt\n{0: [1, 28], 1: [52, 110], 2: [29, 51]}\n1\n28\n"
     ]
    },
    {
     "name": "stderr",
     "output_type": "stream",
     "text": [
      "/Users/mingrenshen/anaconda2/envs/defectDection/lib/python3.5/site-packages/ipykernel_launcher.py:65: SettingWithCopyWarning: \nA value is trying to be set on a copy of a slice from a DataFrame\n\nSee the caveats in the documentation: http://pandas.pydata.org/pandas-docs/stable/indexing.html#indexing-view-versus-copy\n"
     ]
    },
    {
     "name": "stdout",
     "output_type": "stream",
     "text": [
      "52\n110\n29\n51\n"
     ]
    },
    {
     "name": "stderr",
     "output_type": "stream",
     "text": [
      "/Users/mingrenshen/anaconda2/envs/defectDection/lib/python3.5/site-packages/ipykernel_launcher.py:73: SettingWithCopyWarning: \nA value is trying to be set on a copy of a slice from a DataFrame\n\nSee the caveats in the documentation: http://pandas.pydata.org/pandas-docs/stable/indexing.html#indexing-view-versus-copy\n"
     ]
    },
    {
     "name": "stdout",
     "output_type": "stream",
     "text": [
      "g2_midonzone_GBtowardsfront_0010_results.csv\ng2_midonzone_GBtowardsfront_0010_log.txt\n{0: [1, 26], 1: [57, 132], 2: [27, 56]}\n1\n26\n"
     ]
    },
    {
     "name": "stdout",
     "output_type": "stream",
     "text": [
      "57\n132\n27\n56\n"
     ]
    },
    {
     "name": "stdout",
     "output_type": "stream",
     "text": [
      "BF X500K, 09 (3)_results.csv\nBF X500K, 09 (3)_log.txt\n{0: [1, 33], 1: [39, 44], 2: [34, 38]}\n1\n33\n"
     ]
    },
    {
     "name": "stdout",
     "output_type": "stream",
     "text": [
      "39\n44\n34\n38\n200kV_500kx_p2nm_8cmCL_grain1_0056 - Copy_results.csv\n200kV_500kx_p2nm_8cmCL_grain1_0056 - Copy_log.txt\n{0: [1, 14], 1: [66, 169], 2: [15, 65]}\n1\n14\n"
     ]
    },
    {
     "name": "stdout",
     "output_type": "stream",
     "text": [
      "66\n169\n15\n65\n"
     ]
    },
    {
     "name": "stdout",
     "output_type": "stream",
     "text": [
      "0501_300kx_1nm_clhaadf3_0028_results.csv\n0501_300kx_1nm_clhaadf3_0028_log.txt\n{0: [1, 10], 1: [12, 15], 2: [11, 11]}\n1\n10\n"
     ]
    },
    {
     "name": "stdout",
     "output_type": "stream",
     "text": [
      "12\n15\n11\n11\ng1_backonzone_GBtowardsfrom_0007_results.csv\ng1_backonzone_GBtowardsfrom_0007_log.txt\n{0: [1, 25], 1: [52, 145], 2: [26, 51]}\n1\n25\n"
     ]
    },
    {
     "name": "stdout",
     "output_type": "stream",
     "text": [
      "52\n145\n26\n51\n"
     ]
    }
   ],
   "source": [
    "List_0_111 = list()\n",
    "List_1_blackdot = list()\n",
    "List_2_100 = list()\n",
    "\n",
    "Results = list()\n",
    "Results.append(List_0_111)\n",
    "Results.append(List_1_blackdot)\n",
    "Results.append(List_2_100)\n",
    "\n",
    "for folder in os.listdir(raw_root_dir):\n",
    "    #print(folder)\n",
    "    if folder == '.DS_Store' or folder == 'HumanTest.ipynb':\n",
    "        pass\n",
    "    else:\n",
    "        folderPath = raw_root_dir + '/' + folder + '/'\n",
    "        # print(folderPath)\n",
    "        # get txt file and csv file\n",
    "        for f in os.listdir(folderPath):\n",
    "            fs = f.split('.')\n",
    "            #print(fs)\n",
    "            if fs[len(fs)-1] == 'txt':\n",
    "                ftxt = f\n",
    "            if fs[len(fs)-1] == 'csv':\n",
    "                fcsv = f\n",
    "        \n",
    "        print(fcsv)\n",
    "        print(ftxt)\n",
    "        \n",
    "        # get ftxt content\n",
    "        def parsetxt(filename):\n",
    "            with open(filename) as f:\n",
    "                contents = {}\n",
    "                for num in range(3):\n",
    "                    f.readline()\n",
    "                    line = f.readline()\n",
    "                    contents[num] = line.strip().split()\n",
    "                    for length in range(len(contents[num])):\n",
    "                        contents[num][length] = int(contents[num][length])\n",
    "                    f.readline()\n",
    "            return contents\n",
    "        \n",
    "        \n",
    "        logDict = parsetxt(folderPath + '/' + ftxt)\n",
    "        #print(cc)\n",
    "        print(logDict)\n",
    "        DFstat = pd.read_csv(folderPath + '/' + fcsv)\n",
    "        \n",
    "        # get the effective radius of ellipse\n",
    "        \n",
    "        DFstat['reff'] = np.sqrt(DFstat['Major'] * DFstat['Minor'] * 0.25)\n",
    "        \n",
    "        Defects = list()\n",
    "        Defects.append(logDict[0])\n",
    "        Defects.append(logDict[1])\n",
    "        Defects.append(logDict[2])\n",
    "        \n",
    "        \n",
    "        for index,(r1,r2) in enumerate(Defects):\n",
    "            print(r1)\n",
    "            print(r2)\n",
    "            # 111\n",
    "            if index == 0:\n",
    "                for i in range(r1,r2+1):\n",
    "                    Results[index].append(DFstat['Major'][i-1]*0.5)\n",
    "                    DFstat['reff'][i-1]=DFstat['Major'][i-1]*0.5 \n",
    "            elif index == 1: # Balck Dots\n",
    "                for i in range(r1,r2+1):\n",
    "                    Results[index].append(DFstat['reff'][i-1])\n",
    "            else:\n",
    "                assert index == 2\n",
    "                for i in range(r1,r2+1):\n",
    "                    Results[index].append(DFstat['Major'][i-1]*0.5)\n",
    "                    DFstat['reff'][i-1] = DFstat['Major'][i-1] *0.5\n"
   ]
  },
  {
   "cell_type": "code",
   "execution_count": 9,
   "metadata": {},
   "outputs": [
    {
     "name": "stdout",
     "output_type": "stream",
     "text": [
      "The average effective radius of 111 is 42.678460\nThe average effective radius of BlackDots is 19.036298\nThe average effective radius of 100 is 31.535790\n"
     ]
    }
   ],
   "source": [
    "print('The average effective radius of 111 is %f'%(np.average(Results[0])))\n",
    "print('The average effective radius of BlackDots is %f'%(np.average(Results[1])))\n",
    "print('The average effective radius of 100 is %f'%(np.average(Results[2])))"
   ]
  },
  {
   "cell_type": "code",
   "execution_count": 10,
   "metadata": {},
   "outputs": [
    {
     "name": "stdout",
     "output_type": "stream",
     "text": [
      "The SEM radius of 111 is 2.260756\nThe SEM radius of 100 is 1.317704\nThe SEM radius of BlackDots is 0.585421\n"
     ]
    }
   ],
   "source": [
    "# calculate SEM\n",
    "print('The SEM radius of 111 is %f'%(np.std(Results[0])/np.sqrt(len(Results[0]))))\n",
    "print('The SEM radius of 100 is %f'%(np.std(Results[2])/np.sqrt(len(Results[2]))))\n",
    "print('The SEM radius of BlackDots is %f'%(np.std(Results[1])/np.sqrt(len(Results[1]))))"
   ]
  },
  {
   "cell_type": "code",
   "execution_count": 23,
   "metadata": {},
   "outputs": [
    {
     "data": {
      "text/plain": [
       "<Figure size 1080x432 with 0 Axes>"
      ]
     },
     "execution_count": 0,
     "metadata": {},
     "output_type": "execute_result"
    },
    {
     "data": {
      "image/png": "[encoded data removed]",
      "text/plain": [
       "<Figure size 432x288 with 1 Axes>"
      ]
     },
     "metadata": {},
     "output_type": "display_data"
    },
    {
     "data": {
      "text/plain": [
       "<Figure size 1080x432 with 0 Axes>"
      ]
     },
     "execution_count": 0,
     "metadata": {},
     "output_type": "execute_result"
    },
    {
     "data": {
      "image/png": "[encoded data removed]",
      "text/plain": [
       "<Figure size 432x288 with 1 Axes>"
      ]
     },
     "metadata": {},
     "output_type": "display_data"
    },
    {
     "data": {
      "text/plain": [
       "<Figure size 1080x432 with 0 Axes>"
      ]
     },
     "execution_count": 0,
     "metadata": {},
     "output_type": "execute_result"
    },
    {
     "data": {
      "image/png": "[encoded data removed]",
      "text/plain": [
       "<Figure size 432x288 with 1 Axes>"
      ]
     },
     "metadata": {},
     "output_type": "display_data"
    }
   ],
   "source": [
    "# Plot Size Distribution in each type\n",
    "\n",
    "for typeInd in range(3):\n",
    "    DF= pd.DataFrame(columns=['R_eff'])\n",
    "    \n",
    "    for (index,R_eff) in enumerate(Results[typeInd]):\n",
    "        DF.loc[index] = [R_eff]\n",
    "    # Ploting    \n",
    "    histgramFileName = \"Hist_Effective_Radius_of_\" + str(typeInd)\n",
    "    fig = plt.figure(figsize=(15,6))\n",
    "    fig, ax = plt.subplots(1,1)\n",
    "    DF.hist(bins=50, ax=ax)\n",
    "    plt.title('The Effective Radius Distribution of Type ' + str(typeInd) + ' Defects')\n",
    "    fig.savefig(histgramFileName)"
   ]
  },
  {
   "cell_type": "heading",
   "metadata": {},
   "level": 2,
   "source": [
    "## The End"
   ]
  },
  {
   "cell_type": "code",
   "execution_count": null,
   "metadata": {},
   "outputs": [],
   "source": [
    "\n",
    "\n"
   ]
  }
 ],
 "metadata": {
  "kernelspec": {
   "display_name": "Python 2",
   "language": "python",
   "name": "python2"
  },
  "language_info": {
   "codemirror_mode": {
    "name": "ipython",
    "version": 2
   },
   "file_extension": ".py",
   "mimetype": "text/x-python",
   "name": "python",
   "nbconvert_exporter": "python",
   "pygments_lexer": "ipython2",
   "version": "2.7.6"
  }
 },
 "nbformat": 4,
 "nbformat_minor": 0
}
