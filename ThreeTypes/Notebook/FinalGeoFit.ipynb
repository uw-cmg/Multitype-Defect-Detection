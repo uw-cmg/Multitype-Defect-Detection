{
 "cells": [
  {
   "cell_type": "code",
   "execution_count": 1,
   "metadata": {
    "collapsed": true
   },
   "outputs": [],
   "source": [
    "%load_ext autoreload\n",
    "%autoreload 2"
   ]
  },
  {
   "cell_type": "code",
   "execution_count": 2,
   "metadata": {},
   "outputs": [],
   "source": [
    "from utils import imageUtils\n",
    "from utils import postProcessing\n",
    "from utils import MultiDefectDetectionDataset\n",
    "from utils import evaluation\n",
    "from utils import visualization\n",
    "import numpy as np\n",
    "import os\n",
    "from chainercv.links import FasterRCNNVGG16\n",
    "from chainercv.visualizations import vis_bbox\n",
    "from chainercv.utils import write_image\n",
    "import chainer\n",
    "import math\n",
    "from chainercv import utils\n",
    "%matplotlib inline\n",
    "import matplotlib.pyplot as plt"
   ]
  },
  {
   "cell_type": "code",
   "execution_count": 3,
   "metadata": {},
   "outputs": [],
   "source": [
    "#load Data\n",
    "root = './data/3Types/Data3TypesYminXminYmaxXmax8'\n",
    "dataset_train = MultiDefectDetectionDataset(data_dir=root, split='train')\n",
    "dataset_NoAug = MultiDefectDetectionDataset(data_dir=root, split='NoImgAugtrain')\n",
    "dataset_test = MultiDefectDetectionDataset(data_dir=root, split='test')\n",
    "dataset_human = MultiDefectDetectionDataset(data_dir=root,split=\"human\")\n",
    "bbox_label_names = ('111', 'dot','100')"
   ]
  },
  {
   "cell_type": "code",
   "execution_count": 4,
   "metadata": {},
   "outputs": [
    {
     "name": "stdout",
     "output_type": "stream",
     "text": [
      "total number of training images:  1200\ntotal number of test images:  15\ntype of defects:  ('111', 'dot', '100')\n"
     ]
    }
   ],
   "source": [
    "# DataSet Statistics\n",
    "print('total number of training images: ', len(dataset_train))\n",
    "print('total number of test images: ', len(dataset_test))\n",
    "print('type of defects: ', bbox_label_names)"
   ]
  },
  {
   "cell_type": "code",
   "execution_count": 5,
   "metadata": {},
   "outputs": [
    {
     "name": "stdout",
     "output_type": "stream",
     "text": [
      "[ 172.  407.  161.]\nRelative Probabilities\n[ 0.23243243  0.55        0.21756757]\n"
     ]
    },
    {
     "data": {
      "text/plain": [
       "array([[ 172.,  407.,  161.]])"
      ]
     },
     "execution_count": 5,
     "metadata": {},
     "output_type": "execute_result"
    }
   ],
   "source": [
    "def getSATA(dataset,bbox_label_names):\n",
    "    numKindsList = np.zeros(shape=(1, len(bbox_label_names)))\n",
    "    for instance in dataset:\n",
    "        img, gt_bboxes, gt_labels = instance\n",
    "        gt_labels = gt_labels.tolist()\n",
    "        for item in gt_labels:\n",
    "            numKindsList[0,int(item)] += 1\n",
    "    #numKindsList = numKindsList.tolist()\n",
    "    print(numKindsList[0])\n",
    "    print(\"Relative Probabilities\")\n",
    "    print(1.0 * numKindsList[0]/sum(1.0 * numKindsList[0]))\n",
    "    return numKindsList\n",
    "\n",
    "# test function\n",
    "getSATA(dataset_human,bbox_label_names)"
   ]
  },
  {
   "cell_type": "code",
   "execution_count": 6,
   "metadata": {},
   "outputs": [],
   "source": [
    "# Faster R-CNN model\n",
    "\n",
    "use_gpu = False\n",
    "# Higher NMS\n",
    "proposal_params = {'min_size': 8,'nms_thresh':0.4}\n",
    "model = FasterRCNNVGG16(n_fg_class=3,\n",
    "                        pretrained_model='modelResults/snapshot_model_244000_Shufulle.npz',\n",
    "                        ratios=[ 0.5, 1, 1.5, 2, 2.5, 4,8,16], anchor_scales=[1, 4, 8, 16], min_size=1024,\n",
    "                        max_size=1024, proposal_creator_params=proposal_params)\n",
    "\n",
    "model.score_thresh = 0.25\n",
    "\n",
    "if use_gpu:\n",
    "    chainer.cuda.get_device_from_id(0).use()\n",
    "    model.to_gpu()"
   ]
  },
  {
   "cell_type": "code",
   "execution_count": 7,
   "metadata": {},
   "outputs": [],
   "source": [
    "# name id convertion\n",
    "id2name = {\n",
    "1:\"1ROI_100kx_4100CL_foil1.jpg\",\n",
    "2:\"8ROI_100kx_4100CL_foil1.jpg\",\n",
    "3:\"200kV_500kx_p2nm_8cmCL_grain1_0056 - Copy.jpg\",\n",
    "4:\"200kV_500kx_p2nm_8cmCL_grain2_0036.jpg\",\n",
    "5:\"0501_300kx_1nm_clhaadf3_0010.jpg\",\n",
    "6:\"0501_300kx_1nm_clhaadf3_0014.jpg\",\n",
    "7:\"0501_300kx_1nm_clhaadf3_0028.jpg\",\n",
    "8:\"5401_300kx_1nm_clhaadf3_0020.jpg\",\n",
    "9:\"BF X500K, 06 (2).jpg\",\n",
    "10:\"BF X500K, 09 (3).jpg\",\n",
    "11:\"dalong1.jpg\",\n",
    "12:\"g1_backonzone_GBtowardsfrom_0007.jpg\",\n",
    "13:\"g2_midonzone_GBtowardsfront_0010.jpg\",\n",
    "14:\"grid1_roi1_500kx_0p5nm_haadf1_0025.jpg\",\n",
    "15:\"grid1_roi2_500kx_0p5nm_haadf1_0047.jpg\"\n",
    "}"
   ]
  },
  {
   "cell_type": "code",
   "execution_count": null,
   "metadata": {},
   "outputs": [],
   "source": [
    "def saveImage(img,fname):\n",
    "    \"\"\"\n",
    "    :param img (numpy.ndarray): image in CHW format\n",
    "    :return: plot the red channel in grayscale color map\n",
    "\n",
    "    \"\"\"\n",
    "    plt.imshow(img.transpose((1, 2, 0))[:, :, 0], cmap='gray')\n",
    "    plt.axis('off')\n",
    "    plt.savefig(fname,dpi=150,bbox_inches='tight')\n",
    "    \n",
    "\n",
    "from utils.imageUtils import cropImage\n",
    "for i in range(len(id2name)):\n",
    "    fig = plt.figure(figsize=(10,10))\n",
    "    ax1 = fig.add_subplot(1, 1, 1)\n",
    "    img, bbox, label = dataset_test.get_example_by_name(id2name[i+1].rstrip('.jpg'))\n",
    "    visualization.vis_bbox(img, bbox, label, label_names=bbox_label_names, ax=ax1)\n",
    "    os.mkdir(str(i+1))\n",
    "    bboxes, labels, scores = model.predict([img])\n",
    "    subimages, bboxes = cropImage(img, bboxes[0])\n",
    "    for j in range(len(subimages)):\n",
    "        imgName = str(i) + \"/\" + str(j)+'_'+ str(labels[0][j]) +\".jpg\"\n",
    "        saveImage(subimages[j],imgName)"
   ]
  }
 ],
 "metadata": {
  "kernelspec": {
   "display_name": "Python 2",
   "language": "python",
   "name": "python2"
  },
  "language_info": {
   "codemirror_mode": {
    "name": "ipython",
    "version": 2
   },
   "file_extension": ".py",
   "mimetype": "text/x-python",
   "name": "python",
   "nbconvert_exporter": "python",
   "pygments_lexer": "ipython2",
   "version": "2.7.6"
  }
 },
 "nbformat": 4,
 "nbformat_minor": 0
}
