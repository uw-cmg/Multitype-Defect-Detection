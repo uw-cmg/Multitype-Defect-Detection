{
 "cells": [
  {
   "cell_type": "code",
   "execution_count": 2,
   "metadata": {
    "collapsed": true
   },
   "outputs": [],
   "source": [
    "from utils import imageUtils\n",
    "from utils import postProcessing\n",
    "from utils import MultiDefectDetectionDataset\n",
    "from utils import evaluation\n",
    "from utils import visualization\n",
    "import numpy as np\n",
    "import os\n",
    "from chainercv.links import FasterRCNNVGG16\n",
    "from chainercv.visualizations import vis_bbox\n",
    "from chainercv.utils import write_image\n",
    "import chainer\n",
    "import math\n",
    "from chainercv import utils\n",
    "%matplotlib inline\n",
    "import matplotlib.pyplot as plt"
   ]
  },
  {
   "cell_type": "code",
   "execution_count": 3,
   "metadata": {},
   "outputs": [],
   "source": [
    "#load Data\n",
    "root = './data/3Types/Data3TypesYminXminYmaxXmax5'\n",
    "dataset = MultiDefectDetectionDataset(data_dir=root, split='train')\n",
    "dataset_test = MultiDefectDetectionDataset(data_dir=root, split='test')\n",
    "bbox_label_names = ('111', 'dot','100')"
   ]
  },
  {
   "cell_type": "code",
   "execution_count": 4,
   "metadata": {},
   "outputs": [
    {
     "name": "stdout",
     "output_type": "stream",
     "text": [
      "total number of training images:  153\ntotal number of test images:  12\ntype of defects:  ('111', 'dot', '100')\n"
     ]
    }
   ],
   "source": [
    "# DataSet Statistics\n",
    "print('total number of training images: ', len(dataset))\n",
    "print('total number of test images: ', len(dataset_test))\n",
    "print('type of defects: ', bbox_label_names)"
   ]
  },
  {
   "cell_type": "heading",
   "metadata": {},
   "level": 1,
   "source": [
    "Error Analysis"
   ]
  },
  {
   "cell_type": "markdown",
   "metadata": {},
   "source": [
    "Best performance model list\n",
    "\n",
    "0.81 : \"snapshot_model_510000_lr1_20180924.npz\"\n"
   ]
  },
  {
   "cell_type": "code",
   "execution_count": 12,
   "metadata": {},
   "outputs": [],
   "source": [
    "# import Evaluator\n",
    "from chainer.iterators import SerialIterator\n",
    "from chainer.datasets import SubDataset\n",
    "from chainercv.datasets import VOCBboxDataset\n",
    "from chainercv.datasets import voc_bbox_label_names\n",
    "from chainercv.extensions import DetectionVOCEvaluator\n",
    "from chainercv.links import SSD300\n",
    "\n",
    "# Only use subset of dataset so that evaluation finishes quickly.\n",
    "dataset = dataset_test\n",
    "# set batch size = 1\n",
    "it = SerialIterator(dataset, 1, repeat=False, shuffle=False)\n",
    "\n",
    "# Build the detector\n",
    "use_gpu = False\n",
    "proposal_params = {'min_size': 8}\n",
    "model = FasterRCNNVGG16(n_fg_class=3, pretrained_model='./modelResults/snapshot_model_510000_lr1_20180924.npz', ratios=[ 0.5, 1, 1.5, 2, 2.5, 3, 3.5,4],anchor_scales=[1, 4, 8, 16], min_size=1024, max_size=1024,proposal_creator_params=proposal_params)\n",
    "\n",
    "if use_gpu:\n",
    "    chainer.cuda.get_device_from_id(0).use()\n",
    "    model.to_gpu()\n",
    "\n",
    "bbox_label_names = ('111', 'dot','100')\n",
    "\n",
    "evaluator = DetectionVOCEvaluator(it, model,label_names=bbox_label_names)\n",
    "# result is a dictionary of evaluation scores. Print it and check it.\n",
    "result = evaluator()\n",
    "print(result)"
   ]
  },
  {
   "cell_type": "code",
   "execution_count": null,
   "metadata": {},
   "outputs": [],
   "source": [
    "# Test the code of calculate P and R by the defect kinds instead of just using the overall data\n",
    "dataset_test_short = MultiDefectDetectionDataset(data_dir=root, split='shorttest')\n",
    "%time recalls, precisions = evaluate_set_by_centroid_kind(model,bbox_label_names, dataset_test_short, threshold=0.05)\n",
    "print(\"Average recall \", sum(recalls)/len(recalls))\n",
    "print(\"Average precision \", sum(precisions)/len(precisions))"
   ]
  },
  {
   "cell_type": "code",
   "execution_count": 6,
   "metadata": {},
   "outputs": [],
   "source": [
    "# Plot new size report"
   ]
  },
  {
   "cell_type": "code",
   "execution_count": null,
   "metadata": {},
   "outputs": [],
   "source": [
    "bins = 20\n",
    "sz_range = (15,130)\n",
    "recalls, precisions = evaluate_set_by_defect_size(model, dataset_test, num_bins=bins, size_range=sz_range, threshold=0.05)\n",
    "pr_plot_by_size(recalls, label='recall', num_bins=bins, size_range=sz_range)"
   ]
  }
 ],
 "metadata": {
  "kernelspec": {
   "display_name": "Python 2",
   "language": "python",
   "name": "python2"
  },
  "language_info": {
   "codemirror_mode": {
    "name": "ipython",
    "version": 2
   },
   "file_extension": ".py",
   "mimetype": "text/x-python",
   "name": "python",
   "nbconvert_exporter": "python",
   "pygments_lexer": "ipython2",
   "version": "2.7.6"
  }
 },
 "nbformat": 4,
 "nbformat_minor": 0
}
