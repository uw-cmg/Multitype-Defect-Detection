{
 "cells": [
  {
   "cell_type": "code",
   "execution_count": null,
   "metadata": {},
   "outputs": [],
   "source": [
    "%load_ext autoreload\n",
    "\n",
    "%autoreload 2\n",
    "\n",
    "%matplotlib inline"
   ]
  },
  {
   "cell_type": "code",
   "execution_count": 1,
   "metadata": {},
   "outputs": [],
   "source": [
    "# import os\n",
    "# os.getcwd()\n",
    "# os.chdir(\"..\")"
   ]
  },
  {
   "cell_type": "code",
   "execution_count": 2,
   "metadata": {},
   "outputs": [
    {
     "name": "stdout",
     "output_type": "stream",
     "text": [
      "total number of training images:  153\ntotal number of test images:  12\ntype of defects:  ('111', 'dot', '100')\n"
     ]
    }
   ],
   "source": [
    "from utils import imageUtils\n",
    "from utils import postProcessing\n",
    "from utils import MultiDefectDetectionDataset\n",
    "from utils import evaluation\n",
    "from utils import visualization\n",
    "import numpy as np\n",
    "import os\n",
    "from chainercv.links import FasterRCNNVGG16\n",
    "from chainercv.visualizations import vis_bbox\n",
    "from chainercv.utils import write_image\n",
    "import chainer\n",
    "import math\n",
    "from chainercv import utils\n",
    "import matplotlib.pyplot as plt\n",
    "\n",
    "#load Data\n",
    "root = './data/3Types/Data3TypesYminXminYmaxXmax5'\n",
    "dataset = MultiDefectDetectionDataset(data_dir=root, split='train')\n",
    "dataset_test = MultiDefectDetectionDataset(data_dir=root, split='test')\n",
    "dataset_valid = MultiDefectDetectionDataset(data_dir=root, split='validation')\n",
    "bbox_label_names = ('111', 'dot','100')\n",
    "\n",
    "# DataSet Statistics\n",
    "print('total number of training images: ', len(dataset))\n",
    "print('total number of test images: ', len(dataset_test))\n",
    "print('type of defects: ', bbox_label_names)"
   ]
  },
  {
   "cell_type": "code",
   "execution_count": 4,
   "metadata": {},
   "outputs": [],
   "source": [
    "# predict figures using new methods\n",
    "use_gpu = False\n",
    "proposal_params = {'min_size': 8}\n",
    "model = FasterRCNNVGG16(n_fg_class=3, pretrained_model='./modelResults/snapshot_model_510000_20181001_DataSet6WithDA.npz', ratios=[ 0.5, 1, 1.5, 2, 2.5, 3, 3.5,4],anchor_scales=[1, 4, 8, 16], min_size=1024, max_size=1024,proposal_creator_params=proposal_params)\n",
    "\n",
    "if use_gpu:\n",
    "    chainer.cuda.get_device_from_id(0).use()\n",
    "    model.to_gpu()\n",
    "    \n",
    "bbox_label_names = ('111loop', 'dot','100loop')\n",
    "\n",
    "from utils.evaluation import evaluate_set_by_centroid\n",
    "\n",
    "# Using Validation Set\n",
    "dataset_test_validation = MultiDefectDetectionDataset(data_dir=root, split='validation')\n",
    "\n",
    "#print(\"Average recall \", sum(recalls)/len(recalls))\n",
    "#print(\"Average precision \", sum(precisions)/len(precisions))\n",
    "#r = sum(recalls)/len(recalls)\n",
    "#p = sum(precisions)/len(precisions)\n",
    "#print(\"Average F1\", 2 * r * p / (r + p))"
   ]
  },
  {
   "cell_type": "code",
   "execution_count": null,
   "metadata": {},
   "outputs": [],
   "source": []
  },
  {
   "cell_type": "code",
   "execution_count": 6,
   "metadata": {},
   "outputs": [
    {
     "name": "stdout",
     "output_type": "stream",
     "text": [
      "CPU times: user 2min 27s, sys: 46.5 s, total: 3min 14s\nWall time: 2min 48s\n"
     ]
    }
   ],
   "source": [
    "from utils.evaluation import evaluate_set_by_iou_kinds\n",
    "\n",
    "%time recalls, precisions = evaluate_set_by_iou_kinds(model,dataset_test_validation, threshold=0.005,threshold_IoU = 0.5)\n",
    "\n",
    "\n"
   ]
  }
 ],
 "metadata": {
  "kernelspec": {
   "display_name": "Python 3",
   "language": "python",
   "name": "python3"
  },
  "language_info": {
   "codemirror_mode": {
    "name": "ipython",
    "version": 3
   },
   "file_extension": ".py",
   "mimetype": "text/x-python",
   "name": "python",
   "nbconvert_exporter": "python",
   "pygments_lexer": "ipython3",
   "version": "3.5.5"
  }
 },
 "nbformat": 4,
 "nbformat_minor": 1
}
